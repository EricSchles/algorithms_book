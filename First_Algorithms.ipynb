{
 "cells": [
  {
   "cell_type": "markdown",
   "id": "a45b0e54",
   "metadata": {},
   "source": [
    "# First Algorithms\n",
    "\n",
    "We are ready to start!  It may have felt like a long journey getting to this point - all the mathematics, proofs, and programming we had to cover just to get to analyzing our first algorithm, but it will be worth it to have gone through that earlier material.  Some books don't cover all that stuff, but _expect you to know it_.  It is the author's view that doing that to the reader is unfair!  So hopefully all the work was worth it to be at this point.\n",
    "\n",
    "Now that we've talked about all that stuff, let's talk formally about what an algorithm is.  As we saw in the last section the computables were used to approximate various mathematical types.  This theme of approximation within a computational system extends to an algorithm as well.  At a fundamental level, algorithms approximate relations and functions.  Algorithms do this through the programming primitives we discussed in the Introduction_to_Python section.  Specifically through the use of the programming primitives:\n",
    "\n",
    "* control flow\n",
    "* iteration\n",
    "* variable assignment\n",
    "* closure\n",
    "\n",
    "And the data primitives:\n",
    "\n",
    "* integer\n",
    "* float\n",
    "* boolean\n",
    "* string\n",
    "\n",
    "We are able to express relations and functions as algorithms.  Because algorithms express these mathematical constructs through a lower level set of primitives we can express the same rules and behaviors via many implementations that all do the same thing.  Thus algorithms necessarily vary in how well they are able to approximate the underlying mathematical concept and how fast they are able to compute new values given input data.  The questions of correctness and asymptotic behavior will be central to our study of algorithms.  As you may recall from the las section Types_and_Induction, we discussed the asymptotic behavior of the logarithm function, and specifically that it has finite growth.  This leveling off point will be highly desirable in constructing our algorithms.  Therefore, often our algorithms have a few goals:\n",
    "\n",
    "1. Approximate the underlying mathematics as well as possible\n",
    "2. Approximate the running time, the amount of time the algorithm takes to run for input of size N, as close to a logarithmic function as possible\n",
    "3. Ensure that the algorithm is as clear and easy to read as possible\n",
    "\n",
    "As you may have guessed constructing an algorithm to have a logarithmic running time will not always be easy, and in some cases is impossible.  Sometimes the best we will be able to do is a polynomial running time - that is an algorithm that runs in the following form:\n",
    "\n",
    "$$O(N^{x}) = c_{0}N^{x} + c_{1}N^{x-1} + c_{2}N^{x-2} + ... + c_{x-1}N + c_{N} $$\n",
    "\n",
    "Such an algorithm is approximated by the largest term in it's running time for notational convenience and because the highest order power _tends_ to dominate the running time of any given algorithm.  \n",
    "\n",
    "Let's begin our study of algorithms by looking at an example algorithm and the analysis of it's correctness and running time."
   ]
  },
  {
   "cell_type": "code",
   "execution_count": 1,
   "id": "98043e85",
   "metadata": {},
   "outputs": [],
   "source": [
    "def fizz_buzz(number):\n",
    "    if number % 3 == 0 and number % 5 == 0:\n",
    "        return \"fizz buzz\"\n",
    "    elif number % 3 == 0:\n",
    "        return \"fizz\"\n",
    "    elif number % 5 == 0:\n",
    "        return \"buzz\"\n",
    "    else:\n",
    "        return number\n",
    "    \n",
    "def test_fizz_buzz():\n",
    "    assert fizz_buzz(15) == \"fizz buzz\"\n",
    "    assert fizz_buzz(3) == \"fizz\"\n",
    "    assert fizz_buzz(5) == \"buzz\"\n",
    "    assert fizz_buzz(22) == 22\n",
    "    \n",
    "test_fizz_buzz()"
   ]
  },
  {
   "cell_type": "markdown",
   "id": "05dd1455",
   "metadata": {},
   "source": [
    "The above test gives us some confidence of the corretness of the algorithm `fizz_buzz`.  Now what about the running time?\n",
    "\n",
    "Well we can use the following analysis.  We begin by annotating the code of the algorithm:\n",
    "\n",
    "```python\n",
    "def fizz_buzz(number):\n",
    "    if number % 3 == 0 and number % 5 == 0:   𝑐1\n",
    "        return \"fizz buzz\"                    𝑐2\n",
    "    elif number % 3 == 0:                     𝑐3\n",
    "        return \"fizz\"                         𝑐4\n",
    "    elif number % 5 == 0:                     𝑐5\n",
    "        return \"buzz\"                         𝑐6\n",
    "    else:                                     𝑐7\n",
    "        return number                         𝑐8\n",
    "```\n",
    "\n",
    "Now we can add up the running times of each of the above:\n",
    "\n",
    "$$c =  c_{1} + c_{2} + c_{3} + c_{4} + c_{5} + c_{6} + c_{7} + c_{8} $$\n",
    "\n",
    "Please note that 𝑐1 = $c_{1}$ and so forth.  The reason for the change in notation is due to limitations in markdown.\n",
    "\n",
    "Here each of the $c_{i}$ stand for constants.  Every line of code will always have _at least_ a constant term because everything must do some _unit_ of work.  Notice, we have different subscripts on each of the constants.  That's because although each line of code may run consistently in the same time, we cannot be sure how fast that will be.  This could be, because of the specifics of the programming language, the specifics of the hardware the program is running on or _any other number of factors_.  Since the specifics of these constants is _often_ not important and will only vary the running time of a program in a very small way, we typically _mostly_ ignore them.  Settling on denoting each line with it's own constant amount of running time.  \n",
    "\n",
    "When we add up all the above constants, we get yet another constant, which we refer to as $c$, the total constant running time.  From a notational standpoint we typically denote this as:\n",
    "\n",
    "$$ O(1)$$\n",
    "\n",
    "Where O is a function of the running time of the algorithm and the $1$ here means constant time.  The choice of $1$ as the notation for $1$ is standard practice, hence it's use.  Some conventions we must all just live with.\n",
    "\n"
   ]
  },
  {
   "cell_type": "markdown",
   "id": "02e12ce4",
   "metadata": {},
   "source": []
  },
  {
   "cell_type": "markdown",
   "id": "1802f8ac",
   "metadata": {},
   "source": [
    "* constant time\n",
    "* linear\n",
    "* quadratic (swap sort)\n"
   ]
  }
 ],
 "metadata": {
  "kernelspec": {
   "display_name": "Python 3",
   "language": "python",
   "name": "python3"
  },
  "language_info": {
   "codemirror_mode": {
    "name": "ipython",
    "version": 3
   },
   "file_extension": ".py",
   "mimetype": "text/x-python",
   "name": "python",
   "nbconvert_exporter": "python",
   "pygments_lexer": "ipython3",
   "version": "3.9.5"
  }
 },
 "nbformat": 4,
 "nbformat_minor": 5
}
