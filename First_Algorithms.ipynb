{
 "cells": [
  {
   "cell_type": "markdown",
   "id": "a45b0e54",
   "metadata": {},
   "source": [
    "# First Algorithms\n",
    "\n",
    "* constant time\n",
    "* linear\n",
    "* quadratic (swap sort)\n"
   ]
  },
  {
   "cell_type": "code",
   "execution_count": null,
   "id": "951c887f",
   "metadata": {},
   "outputs": [],
   "source": []
  }
 ],
 "metadata": {
  "kernelspec": {
   "display_name": "Python 3",
   "language": "python",
   "name": "python3"
  },
  "language_info": {
   "codemirror_mode": {
    "name": "ipython",
    "version": 3
   },
   "file_extension": ".py",
   "mimetype": "text/x-python",
   "name": "python",
   "nbconvert_exporter": "python",
   "pygments_lexer": "ipython3",
   "version": "3.9.5"
  }
 },
 "nbformat": 4,
 "nbformat_minor": 5
}
