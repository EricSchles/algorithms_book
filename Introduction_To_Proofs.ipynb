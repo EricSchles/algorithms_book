{
 "cells": [
  {
   "cell_type": "markdown",
   "id": "f762a0eb",
   "metadata": {},
   "source": [
    "# Introduction To Proofs\n",
    "\n",
    "In the last section we learned Python.  Next we will cover proofs, which will be a complete change of gears.  Then in the next section, introduction to counter examples, we will make a first attempt at combining programming and proofs.\n",
    "\n",
    "## What Is Mathematics?\n",
    "\n",
    "Although it's likely if you are reading this book you've studied mathematics before, potentially for a large part of your life, have you ever considered what mathematics is?  Take a moment to think about what mathematics means to you.  If you can, write down a definition.\n",
    "\n",
    "Now that you've thought about it for a few minutes, and come up with your own definition, let's consider some possible definitions that I thought about.\n",
    "\n",
    "Is mathematics the study of counting?  Certainly, mathematics started off about counting, and we can think of lots of ways to build from the counting to lots of other things.  But if all we interested in was counting, then things like geometry might be hard to think about.  So, I think we have to reject that as the definition.  Although, counting is certainly a _part_ of mathematics.  It's so important it's got it's own name, combinatorics.\n",
    "\n",
    "Is mathematics the study of numbers?  Mathematics definitely involves numbers.  But again we run into the problem with geometry still?  We can think of numbers as a natural extension of counting for a while, but at some point we reach numbers like $\\sqrt{2}$ which doesn't have an intuitive counting equivalent.  But this is a natural thing to do in geometry.\n",
    "\n",
    "Consider the following triangle:"
   ]
  },
  {
   "cell_type": "code",
   "execution_count": 5,
   "id": "c0f74c9e",
   "metadata": {},
   "outputs": [
    {
     "data": {
      "text/plain": [
       "[<matplotlib.lines.Line2D at 0x7ff86a2e65e0>]"
      ]
     },
     "execution_count": 5,
     "metadata": {},
     "output_type": "execute_result"
    },
    {
     "data": {
      "image/png": "[encoded data removed]",
      "text/plain": [
       "<Figure size 432x288 with 1 Axes>"
      ]
     },
     "metadata": {
      "needs_background": "light"
     },
     "output_type": "display_data"
    }
   ],
   "source": [
    "import matplotlib.pyplot as plt\n",
    "\n",
    "plt.plot([0, 1], [0, 1])\n",
    "plt.plot([0, 1], [0, 0])\n",
    "plt.plot([1, 1], [0, 1])"
   ]
  },
  {
   "cell_type": "markdown",
   "id": "5e15fcfc",
   "metadata": {},
   "source": [
    "If we are interested in it's hypotenuse we need to consider it's two other sides, which both measure length 1.  Then we apply the pythagorian formula for length:\n",
    "\n",
    "$$ C^{2} = A^{2} + B^{2} $$\n",
    "\n",
    "or\n",
    "\n",
    "$$ C = \\sqrt{A^{2} + B^{2}} $$\n",
    "\n",
    "In our case this yields:\n",
    "\n",
    "A = 1\n",
    "B = 1\n",
    "\n",
    "Therefore,\n",
    "\n",
    "$$ C = \\sqrt{1^{2} + 1^{2}}$$\n",
    "\n",
    "then we simply carry out the squaring:\n",
    "\n",
    "$$ C = \\sqrt{1 + 1}$$\n",
    "\n",
    "And carry out the addition:\n",
    "\n",
    "$$ C = \\sqrt{2}$$"
   ]
  },
  {
   "cell_type": "markdown",
   "id": "bdf35bbd",
   "metadata": {},
   "source": [
    "It is not easy to count $\\sqrt{2}$ and yet, it is a thing that occurs _very_ naturally.  So numbers cannot entirely be based on counting.  And even then, it's still not entirely obvious how to capture shapes in the numbers.  Of course, if we embed shapes in the cartesian plane, then this becomes clear, like we did above.  But what if we want to consider geometry _outside_ of the plane?  What then?\n",
    "\n",
    "I think this is at least a somewhat convincing argument that numbers are not a strong enough basis for the foundations of all of mathematics.  \n",
    "\n",
    "So is geometry?  Well geometry certainly can handle lots of cases.  But what happens when you need things like imaginary or complex numbers?  Or if you are dealing with dimensions that are fractional?  Or if a shape is not the right abstraction?  For instance, consider a social network:\n",
    "\n",
    "What shape best describes the connections between you and your friends?  While you might be able to capture this, wouldn't a discrete graph be better than a continuous one?  What about transformations between spaces?  How does geometry think about that?  It may not be easy to capture transformations of an N dimensional plane geometrically.  Especially if there are _affine_ transformations.  Or worse yet, if the transformation makes the space _smaller_, decreasing the number of dimensions of the space.\n",
    "\n",
    "No, I think geometry too must fail to be the central core of the study mathematics.  If you are unfamiliar with any of the above, not to worry!  The point of this book is to teach you about each of these things, to some degree.  At the very least, to introduce you to each of the above topics.  In case you've never seen the above topics before:\n",
    "\n",
    "The study of complex numbers is called complex analysis.  The study of spaces is called linear algebra, when we are dealing with translations between cartesian coordinates.  If we are dealing with discrete graphs, we are studying graph theory.  The study of spaces when we are not dealing with translations between cartesian coordinates is called topology.  There are many more fields of mathematics, like probability theory, category theory, homology, abstract algebra, real analysis, calculus, differential equations, and many more.  Each discipline is a _part_ of mathematics, but not all of it.  \n",
    "\n",
    "So in order to define mathematics, we have to ask ourselves, what do all of these things have _in common_?  My own working definition is this:\n",
    "\n",
    "Mathematics is the study of falsifiable statements, and primarily considered with coming up with _new_ true and false statements using a combination of logic, previously proven mathematical statements, and experimental evidence.\n",
    "\n",
    "So in order to learn mathematics, we need to know the _definitions_ of our subfield, we need to know logic, and we need to be able to check our logic for errors or counter examples.  If we can do all that, then we can do mathematics in _any_ subfield, no matter how sophisticated or simple.  Notice, that our definition requires that any statement we consider to prove mathematically be such that, it be either true or false, but not both.  This becomes very tricky in some parts of mathematics.\n",
    "\n",
    "For instance, if we consider probability, statistics, or machine learning, it's _not_ necessarily the case that any of the things we say or try to provide evidence for will _stay_ true.  This is where mathematics and science diverge.  Science necessarily has to allow for exceptional cases.  The hypotheses science attempts to prove necessarily have falsifiable.  But that doesn't mean that those statements _always_ be true.  Just that they be predictable.  There are millions of reasons a given experiment could fail, and that may or may not mean that the hypothesis under consideration is true or false.  That is because there is a component of experimental design, associated with an experiment.  And experimental design is subject to failures outside of the thing under observation.  One of these factors is, humans.  We define the parameters of our experiments, and that doesn't always mean we define them correctly.  We also have to analyze the data _after_ or _during_ the experiment has been carried out.  And often when that happens, there can be errors.  This implies that science is certainly interested in truth, but does not require the same tools, nor can we necessarily draw the same conclusions from mathematics that we can from science.\n",
    "\n",
    "This is not to say that both aren't _important_ and that they can't work together - they absolutely can and do.  It is my ascertion that both are requirements for the other.  Science helps grounds mathematics in usefulness, and mathematics allows us to extend the technical capabilities of all science.  Therefore, when done well, and learned seriously, the two skills naturally reinforce one another.  But too much of one and not the other can lead to cellings in how far you can go.  \n",
    "\n",
    "To summarize and extend, here are some of the areas of mathematics:\n",
    "\n",
    "* combinatorics\n",
    "* number theory\n",
    "* algebra\n",
    "* abstract algebra\n",
    "* linear algebra\n",
    "* real analysis\n",
    "* complex analysis\n",
    "* topology\n",
    "* algebraic topology\n",
    "* category theory\n",
    "* graph theory\n",
    "* geometry\n",
    "* algebraic geometry\n",
    "* probability theory\n",
    "* statistics\n",
    "* machine learning\n",
    "* numerical methods\n",
    "\n",
    "Each of these areas is rich with it's own storied history.  And each of these branches is certainly worthy of study.  That said, we will only have time and space in this text to study some of them, and only at the introductory level.  If you are interested in any of these topics, I highly recommend looking for a relevant set of sources at your nearest library.  Libribrians are a powerful resource, that often goes under utilized.  It's their job to help you find interesting.  Think of them like google search on steriods.  \n",
    "\n",
    "## An Introduction To Logic\n",
    "\n",
    "Logic is the study of statements that are true or false.  Using this binary set of cases, logicians build from basic notions to complex ones.  As an example of a falsifiable statement, consider the following statement:\n",
    "\n",
    "P: The integer 5 is odd.\n",
    "\n",
    "This statement can either be true or false, there is no wiggle room.  Either 5 is odd or it's even.  Those are our only options.  Whether or not 5 is odd will be proved soon, but for now, don't worry about that.  Now consider the following _open_ statement:\n",
    "\n",
    "P(x): The integer 5x is odd.\n",
    "\n",
    "The reason this statement is open is because we don't at the writing of the statement know the value of x.  That means it could be either case, until x is given.  If we were dealing with a Python program like this, it would be one where all the functions return a boolean.  Another example of an open statement, in Python would be:"
   ]
  },
  {
   "cell_type": "code",
   "execution_count": 8,
   "id": "bd5fbf48",
   "metadata": {},
   "outputs": [],
   "source": [
    "def is_x_even(x):\n",
    "    return x % 2 == 0"
   ]
  },
  {
   "cell_type": "markdown",
   "id": "d3aaebfd",
   "metadata": {},
   "source": [
    "Here we are asking if x is even.  If it is, then the function returns true.  If it's odd, the function returns false.  Let's take some examples:"
   ]
  },
  {
   "cell_type": "code",
   "execution_count": 9,
   "id": "8114e9d5",
   "metadata": {},
   "outputs": [
    {
     "data": {
      "text/plain": [
       "True"
      ]
     },
     "execution_count": 9,
     "metadata": {},
     "output_type": "execute_result"
    }
   ],
   "source": [
    "is_x_even(2)"
   ]
  },
  {
   "cell_type": "code",
   "execution_count": 10,
   "id": "8c6b2987",
   "metadata": {},
   "outputs": [
    {
     "data": {
      "text/plain": [
       "False"
      ]
     },
     "execution_count": 10,
     "metadata": {},
     "output_type": "execute_result"
    }
   ],
   "source": [
    "is_x_even(3)"
   ]
  },
  {
   "cell_type": "markdown",
   "id": "c316e935",
   "metadata": {},
   "source": [
    "See!  Pretty neat right?  If we want to assess whether an open statement is always true or always false however, we cannot rely on _any_ programming language.  This is because programs are constrained by the computers running those programs, and the compute power associated with those computers.  That means, there is a limit to what a computer can figure out for us.  Next let's look at how a human would check an open statement:\n",
    "\n",
    "Suppose P is an open statement, that means it can be either True or False:\n",
    "\n",
    "|   P |\n",
    "|---\n",
    "| T  |\n",
    "| F  |\n",
    "\n",
    "So we have two possible states for our statement.  What if we had two open statements?  Then we would have 4 possible states:\n",
    "\n",
    "| P   |  Q |\n",
    "|---  |---\n",
    "|  T | T | \n",
    "|  T | F | \n",
    "|  F | T |  \n",
    "|  F | F |\n",
    "\n",
    "What if we have three open statements?  Then we have 8 possible states:\n",
    "\n",
    "|P    | Q   | R |\n",
    "|---  |---  |---\n",
    "| T   | T   | T |\n",
    "| T   | T   | F |\n",
    "| T   | F   | T |\n",
    "| T   | F   | F |\n",
    "| F   | T   | T |\n",
    "| F   | T   | F |\n",
    "| F   | F   | T |\n",
    "| F   | F   | F |\n",
    "\n",
    "The above three diagrams are called truth tables and describe the possible states of open statements.  What's powerful about these, is they describe the entire state of a set of statements.  As we'll come to see, when we combine these with boolean operators, we'll be able to make some powerful insights.  \n",
    "\n",
    "## Boolean Operators\n",
    "\n",
    "We've already seen these in the last section on Python, for the most part.  There will be a few new additions, but for the most part, this should be review.  First consider a single open statement, like\n",
    "\n",
    "P: The integer 2x is even.\n",
    "\n",
    "What is the negation of that statement?\n",
    "\n",
    "~P: The integer 2x is not even.  \n",
    "\n",
    "OR\n",
    "\n",
    "~P: The integer 2x is odd.\n",
    "\n",
    "Next, let's write down the truth table for P and ~P:\n",
    "\n",
    "| P  | ~P |\n",
    "|--- |--- |\n",
    "| T  | F  |\n",
    "| F  | T  |\n",
    "\n",
    "Notice, that while the truth table for two variables has four possible states, the truth table for a statement and it's negation only has two.  That is because ~P contains the same amount of information as P, except with the opposite values.  In otherwords, there is no extra state information in the negation.\n",
    "\n",
    "Let's look at the Python operator equivalent:"
   ]
  },
  {
   "cell_type": "code",
   "execution_count": 1,
   "id": "7819ee39",
   "metadata": {},
   "outputs": [
    {
     "name": "stdout",
     "output_type": "stream",
     "text": [
      "False\n"
     ]
    }
   ],
   "source": [
    "p = True\n",
    "print(not p)"
   ]
  },
  {
   "cell_type": "code",
   "execution_count": 2,
   "id": "57bda273",
   "metadata": {},
   "outputs": [
    {
     "name": "stdout",
     "output_type": "stream",
     "text": [
      "True\n"
     ]
    }
   ],
   "source": [
    "q = False\n",
    "print(not q)"
   ]
  },
  {
   "cell_type": "markdown",
   "id": "08d5f0c5",
   "metadata": {},
   "source": [
    "As you can see, we capture the same amount of information with the Python code, that we do with the diagram.  \n",
    "\n",
    "Next let's look at the AND operator.  Unlike the not operator (~), the AND operator has a binary input, because it takes in two open statements.\n",
    "\n",
    "Let's look at an example of a compound statement, using AND.\n",
    "\n",
    "P: 2x is an even number.\n",
    "Q: 3x is an odd number.\n",
    "\n",
    "P AND Q: 2x is an even number and 3x is an odd number.\n",
    "\n",
    "Now let's look at it's diagram:\n",
    "\n",
    "|P    | Q   | P AND Q |\n",
    "|---  |---  |---\n",
    "| T   | T   | T |\n",
    "| T   | F   | F |\n",
    "| F   | T   | F |\n",
    "| F   | F   | F |\n",
    "\n",
    "As you can see, a statement containing an AND is only true if both the components are true.  The next compound statement we will look at is OR:\n",
    "\n",
    "Example:\n",
    "\n",
    "P: 45x + 7 is an even number.\n",
    "Q: 17x - 12 is an odd number.\n",
    "\n",
    "P OR Q: 45x + 7 is an even number or 17x - 12 is an odd number.\n",
    "\n",
    "Now let's look at it's diagram:\n",
    "\n",
    "|P    | Q   | P OR Q |\n",
    "|---  |---  |---\n",
    "| T   | T   | T |\n",
    "| T   | F   | T |\n",
    "| F   | T   | T |\n",
    "| F   | F   | F |\n",
    "\n",
    "As you can see, a statement containing an OR is true unless both of it's components are false.  Now let's ask a question - are AND and OR opposites?  That is, is one true whenever the other is false?  We can check by comparing their truth tables:\n",
    "\n",
    "|P    | Q   | P OR Q | P AND Q|\n",
    "|---  |---  |---     |---\n",
    "| T   | T   | T      | T | \n",
    "| T   | F   | T      | F |\n",
    "| F   | T   | T      | F |\n",
    "| F   | F   | F      | F |\n",
    "\n",
    "It looks like they aren't opposites.  That's because if the pair (P, Q) have the same value, then P AND Q, and P OR Q agree.  If a truth table can tell us when two operators are opposites, that means they can tell us _when they are the same_.  That means, we can use a truth table, to also _prove_ that two operators do the same thing.  \n",
    "\n",
    "Consider the following operator which many computer programmers may have seen before:\n",
    "\n",
    "|P    | Q   | P XOR Q | \n",
    "|---  |---  |---     |\n",
    "| T   | T   | T      |\n",
    "| T   | F   | F      |\n",
    "| F   | T   | F      |\n",
    "| F   | F   | T      |\n",
    "\n",
    "This operator says - if both P and Q have the same truth value, XOR will be true and false otherwise.  Can we use the operators we've developed so far to decompose XOR into the operators, AND, OR and NOT?  \n",
    "\n",
    "Proof:\n",
    "\n",
    "P XOR Q is equivalent to (P AND Q) OR (~P AND ~Q).\n",
    "\n",
    "We have already seen the truth table for XOR, but we will add it below for completeness:\n",
    "\n",
    "|P    | Q   | P XOR Q | \n",
    "|---  |---  |---     |\n",
    "| T   | T   | T      |\n",
    "| T   | F   | F      |\n",
    "| F   | T   | F      |\n",
    "| F   | F   | T      |\n",
    "\n",
    "Next, let's do the truth table for the second statement:\n",
    "\n",
    "|P    | Q   | ~P | ~Q  | P AND Q | ~P AND ~Q | (P AND Q) OR (~P AND ~Q)|\n",
    "|---  |---  |--- |---  | ---     |---        |---                      |\n",
    "| T   | T   | F  | F   |   T     | F         |      T                  |\n",
    "| T   | F   | F  | T   |   F     | F         |      F                  |\n",
    "| F   | T   | T  | F   |   F     | F         |      F                  |\n",
    "| F   | F   | T  | T   |   F     | T         |      T                  |\n",
    "\n",
    "As you can see they have equivalent truth values everywhere.  QED.\n",
    "\n",
    "At the end of a proof we usually write QED, which is an acryonm in latin.  The words mean, \"for that which is to be shown\".  We can also implement the second operator pretty easily in Python:  "
   ]
  },
  {
   "cell_type": "code",
   "execution_count": 14,
   "id": "59d5047d",
   "metadata": {},
   "outputs": [
    {
     "data": {
      "text/plain": [
       "True"
      ]
     },
     "execution_count": 14,
     "metadata": {},
     "output_type": "execute_result"
    }
   ],
   "source": [
    "p = True\n",
    "q = True\n",
    "\n",
    "(p and q) or ((not q) and (not p))"
   ]
  },
  {
   "cell_type": "code",
   "execution_count": 13,
   "id": "60b71ffd",
   "metadata": {},
   "outputs": [
    {
     "data": {
      "text/plain": [
       "False"
      ]
     },
     "execution_count": 13,
     "metadata": {},
     "output_type": "execute_result"
    }
   ],
   "source": [
    "p = False\n",
    "q = True\n",
    "\n",
    "(p and q) or ((not q) and (not p))"
   ]
  },
  {
   "cell_type": "code",
   "execution_count": 11,
   "id": "16d1d324",
   "metadata": {},
   "outputs": [
    {
     "data": {
      "text/plain": [
       "True"
      ]
     },
     "execution_count": 11,
     "metadata": {},
     "output_type": "execute_result"
    }
   ],
   "source": [
    "p = False\n",
    "q = False\n",
    "\n",
    "(p and q) or ((not q) and (not p))"
   ]
  },
  {
   "cell_type": "code",
   "execution_count": 34,
   "id": "dcc6a390",
   "metadata": {},
   "outputs": [
    {
     "data": {
      "text/plain": [
       "False"
      ]
     },
     "execution_count": 34,
     "metadata": {},
     "output_type": "execute_result"
    }
   ],
   "source": [
    "p = True\n",
    "q = False\n",
    "\n",
    "(p and q) or ((not q) and (not p))"
   ]
  },
  {
   "cell_type": "markdown",
   "id": "2fafdae8",
   "metadata": {},
   "source": [
    "More importantly, we've just seen our first proof!  Proofs are the building block of all of mathematics.  In general it is the main mechanism to verify a new idea.  With a proof, you can be sure you are on stable ground.  In addition to that, it can also be an important mechanism for understanding why a statement is true or false.  So even if we get a negative result by trying to come up with a new idea, often times, in attempting to prove it, we still come away with some deeper understanding.\n",
    "\n",
    "In general the way knowledge discovery works is:\n",
    "\n",
    "Start with a set of primitives.  Use those primitives to prove new results.  Take the new results as part of your set of primitives.  Prove new results using this new enhanced set of primitives.  \n",
    "\n",
    "With a complete system, you could continue this process forever, and learn _everything_ in the world.  While this procedure doesn't _always_ work, it works to an incredibly effective degree.  \n",
    "\n",
    "Next let's talk about a very important type of mathematical statement:  If P then Q.  We've already seen this logic play out with the if/elif/else statement in Python, however it's importance and power is greater in mathematics.  This is because if/elif/else statements are only useful for checking specific cases.  We can extend this with a for loop, however it's just not as powerful.  For instance, suppose you wanted to check the following state:\n",
    "\n",
    "If x is an integer then 2x is even.\n",
    "\n",
    "For let's see how we might check this with Python:"
   ]
  },
  {
   "cell_type": "code",
   "execution_count": 1,
   "id": "45023edb",
   "metadata": {},
   "outputs": [
    {
     "name": "stdout",
     "output_type": "stream",
     "text": [
      "True\n"
     ]
    }
   ],
   "source": [
    "count = 0\n",
    "for i in range(100):\n",
    "    if (i*2) % 2 == 0:\n",
    "        count += 1\n",
    "print(count == 100)"
   ]
  },
  {
   "cell_type": "markdown",
   "id": "39b60cbe",
   "metadata": {},
   "source": [
    "At this point we have verified the statement for the first 100 integers.  But we haven't verified it for _all_ integers.  This is, unfortunately impossible for a machine.  This is because computers have _finite_ memory.  They literally cannot check all the cases.  And this means, we can _never_ be sure with code that a statement of this form will be true from a computer.  \n",
    "\n",
    "Now let's look at the truth table for if P then Q.  We'll then use that truth table to prove the above statement.\n",
    "\n",
    "|P    | Q   | If P then Q | \n",
    "|---  |---  |---          |\n",
    "| T   | T   | T           |\n",
    "| T   | F   | F           |\n",
    "| F   | T   | T           |\n",
    "| F   | F   | T           |\n",
    "\n",
    "As you can see we need to check three things - \n",
    "\n",
    "1. Whether P is true or false\n",
    "2. Whether Q is true or false\n",
    "3. The combination of P and Q.\n",
    "\n",
    "If P is False, then no matter what, the statement \"if P then Q\" is _always_ true.  If P happens to be true, then we need to ensure Q is true as well, otherwise the statement is false.\n",
    "\n",
    "First let us verify that P is true.  In this case P is:\n",
    "\n",
    "x is an integer.\n",
    "\n",
    "To make this statement true, we can simply _assume_ P is true.  That is, we can let x be some integer.  No more work is required.  This will have consequences for our statement Q, because now we must also assume the x in 2x is an integer.  If it's not then the statement will be false.  Additionally, if 2x is not even, then the statement will be false.\n",
    "\n",
    "So we need to check:\n",
    "\n",
    "1. Is x an integer?\n",
    "2. Is 2x an integer?\n",
    "3. Is 2x an _even_ integer?\n",
    "\n",
    "If all three of those are true, then \"If P then Q\" will be true, and we are _done_.\n",
    "\n",
    "Proof:\n",
    "\n",
    "let x be an integer.  (by assumption)\n",
    "`2 * x` an integer.  (by 2 an integer, x an integer and integers closed under `*`)\n",
    "\n",
    "So now we know statements (1) and (2) are both true.  Next all we need to do is verify 2x is even.  At this point, we need the definition of even:\n",
    "\n",
    "definition: if y is an integer and `y = 2*r` for some integer r, then y is even.\n",
    "\n",
    "From the above definition we can write `2 * x = t` and t is an integer (by (1) and (2)).\n",
    "\n",
    "Therefore,\n",
    "\n",
    "If x is an integer, then 2x is even.\n",
    "\n",
    "QED.\n",
    "\n",
    "In this proof, we tried to _as explicit as possible_.  In some cases, being this explicit will be unnecessary.  However, sometimes, being more explicit than necessary will be helpful in finding errors in proofs.  The question of how much detail to include is much more an art than a science unfortunately.  \n",
    "\n",
    "In any event, we've now seen how to prove a statement from a set of primitives.  I want to impress how _powerful_ the above statement is:\n",
    "\n",
    "\"If x is an integer, then 2x is even\"\n",
    "\n",
    "is _impossible_ for a computer to prove.  In a few lines of logic, we have shown something a computer can never do.  That's the power of proofs.  By being able to show statements are _always_ true, or _always_ false, we humans are more powerful computational machines than computers.  Perhaps there will come a day when computers _truly_ understand language.  Until that day comes, the human will always reign supreme in terms of computational prowess.  \n",
    "\n",
    "Before we leave this proof, there are a few terms and phrases we need to define, that you may not already know.\n",
    "\n",
    "During the proof we used the phrase \"integers closed under `*`\", this means that if you take _any_ two integers and multiply them together, you're answer is _still_ an integer.  \n",
    "\n",
    "The second thing you may not be used to is the style of this sort of proof.  Here we made a statement like:\n",
    "\n",
    "\"let x be an integer.  (by assumption)\"\n",
    "\n",
    "The thing being stated is the primitive and the thing in the () is the justification.  Sometimes you need a seperate line for the justification.  In which case a () is cumbersome.  But when the reasoning is straight forward to state, using () can add to the readability.\n",
    "\n",
    "As an aside, another way to write if P then Q is P => Q, read P implies Q.  The arrow notation is fairly standard and we will mostly use it going forward whenever possible.  \n",
    "\n",
    "Now, let's consider - can we write the truth table P => Q using the primitives we've defined so far?  The answer is yes!  Let's state this as a lemma, which is a helper proof, and then prove it!\n",
    "\n",
    "Lemma: P => Q is equivalent to (~ P) OR Q.\n",
    "\n",
    "Proof:\n",
    "\n",
    "In order to prove this, we need only show that the two statements are logically equivalent, which we can do with the truth table:\n",
    "\n",
    "|P    | Q   | ~P | P => Q   | (~P) OR Q |\n",
    "|---  |---  |--- |---       | ---     |\n",
    "| T   | T   | F  | T        |   T     | \n",
    "| T   | F   | F  | F        |   F     | \n",
    "| F   | T   | T  | T        |   T     | \n",
    "| F   | F   | T  | T        |   T     | \n",
    "\n",
    "As you can see, the truth table for the two columns are equivalent!  \n",
    "\n",
    "QED.\n",
    "\n",
    "While this proof is very straight forward, it gives us another powerful building block for proving results.  Specifically, it may be easier to negate a result and then check if both statements are false.  If both _are not_ false, then the implication P => Q is true!\n",
    "\n",
    "Next let's establish the general paradigm for equivalence, because we don't use truth tables directly in proofs.  They are more like a guide for how the proof ought to flow.  And a rubric for what needs to be shown in order to prove the statement.  For this we need something called _the biconditional_.  Notationally the biconditional is often stated as:\n",
    "\n",
    "P is equivalent to Q\n",
    "\n",
    "OR\n",
    "\n",
    "P <==> Q.\n",
    "\n",
    "From a logical stand point, this is the same as, (P => Q) AND (Q => P).  Here is it's truth table:\n",
    "\n",
    "|P    | Q   | P => Q | Q => P  | (P => Q) AND (Q => P) |\n",
    "|---  |---  |---     |---      |---                    |\n",
    "| T   | T   | T      | T       |   T                   |\n",
    "| T   | F   | F      | T       |   F                   |\n",
    "| F   | T   | T      | F       |   F                   |\n",
    "| F   | F   | T      | T       |   T                   |\n",
    "\n",
    "As you can see, the biconditional is true if both P AND Q are the same and false when they are different.  The careful reader will have noticed that the biconditional is equivalent to _another_ logical operator we've already seen - XOR.\n",
    "\n",
    "Lemma:  P <==> Q is equivalent to P XOR Q.\n",
    "\n",
    "Proof:\n",
    "\n",
    "We need only write down the truth table to verify this:\n",
    "\n",
    "|P    | Q   | P => Q | Q => P  | (P => Q) AND (Q => P) |  P XOR Q |\n",
    "|---  |---  |---     |---      |---                    |---       |\n",
    "| T   | T   | T      | T       |   T                   |     T    |\n",
    "| T   | F   | F      | T       |   F                   |     F    |\n",
    "| F   | T   | T      | F       |   F                   |     F    |\n",
    "| F   | F   | T      | T       |   T                   |     T    |\n",
    "\n",
    "QED.\n",
    "\n",
    "Another way to prove this without relying on truth tables is to recall that, P => Q is equivalent to (~P) OR Q.  Let's look at that proof, since it doesn't relying on truth tables:\n",
    "\n",
    "Lemma: P <==> Q is equivalent to P XOR Q.\n",
    "\n",
    "Proof:\n",
    "\n",
    "We begin by making use of the fact that we know:\n",
    "\n",
    "P XOR is equivalent to (P AND Q) OR (~ P AND ~ Q), from our work above.\n",
    "\n",
    "So we need to show (P AND Q) OR (~ P AND ~ Q) <==> (P <==> Q).\n",
    "\n",
    "Whenever we are doing an equivalence proof, we need to show the implication in both directions, that is P => Q and then Q => P.  Let's begin with P => Q:\n",
    "\n",
    "P <==> Q is equvalent to (P => Q) AND (Q => P). (by truth table in previous proof)\n",
    "\n",
    "P => Q is equivalent to (~ P) OR Q.  (by lemma above)\n",
    "Q => P is equivalent to ( ~Q) OR P.  (by lemma above)\n",
    "\n",
    "Therefore,\n",
    "\n",
    "P <==> Q is equivalent to (~ P OR Q) AND (~ Q OR P).  \n",
    "\n",
    "We can rearrange (~ P OR Q) AND (~ Q OR P) to get (P AND Q) OR (~ P AND ~ Q).  Unfortunately, there are some laws we haven't introduced yet, so we'll need to use a truth table to verify this statement:\n",
    "\n",
    "We have truth table for (P AND Q) OR (~ P AND ~ Q) below:\n",
    "\n",
    "|P    | Q   | ~P | ~Q  | P AND Q | ~P AND ~Q | (P AND Q) OR (~P AND ~Q)|\n",
    "|---  |---  |--- |---  | ---     |---        |---                      |\n",
    "| T   | T   | F  | F   |   T     | F         |      T                  |\n",
    "| T   | F   | F  | T   |   F     | F         |      F                  |\n",
    "| F   | T   | T  | F   |   F     | F         |      F                  |\n",
    "| F   | F   | T  | T   |   F     | T         |      T                  |\n",
    "\n",
    "And we have the truth table for (~P OR Q) AND (~Q OR P)\n",
    "\n",
    "|P    | Q   | ~P | ~Q  | ~P OR Q | ~Q OR P   | (~P OR Q) AND (~Q OR P)  |\n",
    "|---  |---  |--- |---  | ---     |---        |---                       |\n",
    "| T   | T   | F  | F   |   T     | T         |      T                   |\n",
    "| T   | F   | F  | T   |   F     | T         |      F                   |\n",
    "| F   | T   | T  | F   |   T     | F         |      F                   |\n",
    "| F   | F   | T  | T   |   T     | T         |      T                   |\n",
    "\n",
    "As you can see, the truth tables are equivalent.  This means that (P <==> Q) => (P AND Q) OR (~ P AND ~ Q).\n",
    "\n",
    "Next, to go backwards we begin with (P AND Q) OR (~ P AND ~ Q) and need to show we can follow a series of logical connectives to get back to P <==> Q.  \n",
    "\n",
    "Beginning from (P AND Q) OR (~ P AND ~ Q):\n",
    "\n",
    "(P AND Q) OR (~ P AND ~ Q) is equivalent to (~ P OR Q) AND (~ Q OR P) (by above truth table).\n",
    "\n",
    "Next we can break up (~ P OR Q) AND (~ Q OR P):\n",
    "\n",
    "(~ P) OR Q  is equivalent to P => Q.  (by lemma above)\n",
    "(~ Q) OR P is equivalent to  Q => P.  (by lemma above)\n",
    "\n",
    "Therefore,\n",
    "\n",
    "(~ P OR Q) AND (~ Q OR P) is equivalent to (P => Q) AND (Q => P).\n",
    "And (P => Q) AND (Q => P) is equvalent to  P <==> Q (by definition).\n",
    "\n",
    "Therefore (P AND Q) OR (~P AND ~Q) => (P <==> Q).\n",
    "\n",
    "So, to sum up we have:\n",
    "\n",
    "(P AND Q) OR (~P AND ~Q) <==> (P <==> Q)!\n",
    "\n",
    "So P XOR Q <==> (P <==> Q).\n",
    "\n",
    "QED.\n",
    "\n",
    "While we did have to rely on _one_ truth table still, we mostly could work off of primitives we already established to show that a _new_ statement was true.\n",
    "\n",
    "Now that we have some mechanisms for equivalence, let's talk about tautology and contradiction.\n",
    "\n",
    "In general, a tautology is a compound statement, where _every_ value of the truth table is true.  Let's look at some examples:\n",
    "\n",
    "Lemma: P OR ~P is a tautology.  \n",
    "\n",
    "Proof:\n",
    "\n",
    "For this we will simply look at the truth table for P and ~P.\n",
    "\n",
    "| P   | ~P  | P OR ~P     | \n",
    "|---  |---  |---          |\n",
    "| T   | F   | T           |\n",
    "| F   | T   | T           |\n",
    "\n",
    "QED.\n",
    "\n",
    "This means, the statement P OR ~P _will always be true_.  This is means _any_ open statement or it's negation will always be true.  In general tautologies that are compound statements should always be watched out for.  Because if a compound statement happens to take on the form of a tautology, we may simply need to notice that our statement is such to prove it.  \n",
    "\n",
    "Hopefully in general it's clear why P or ~P is a tautology - this comes down to the binary nature of truth.  In general, any statement can be either true or false, _but not both_.  So whenever the statement P is true, it's negation will be false, and vice versa.\n",
    "\n",
    "Next let's look at another less obvious tautology.\n",
    "\n",
    "Lemma:  ~Q OR (P => Q) is a tautology.\n",
    "\n",
    "Again we will simply look at the truth table to verify this:\n",
    "\n",
    "|P    | Q   | ~Q     |  P => Q | (~Q) OR (P => Q)      |\n",
    "|---  |---  |---     |---      |---                    |\n",
    "| T   | T   | F      | T       |   T                   |\n",
    "| T   | F   | T      | F       |   T                   |\n",
    "| F   | T   | F      | T       |   T                   |\n",
    "| F   | F   | T      | T       |   T                   |\n",
    "\n",
    "QED.\n",
    "\n",
    "This one is a little easier to make sense of if we consider the more primative form of P => Q.  Namely, (~P) OR Q:\n",
    "\n",
    "(~ Q) OR (~ P OR Q) <==> ~ Q OR Q OR ~ P.\n",
    "\n",
    "To see this, we only need to drop the parentheses.  Then we can simply do this:\n",
    "\n",
    "(~Q OR Q) OR ~P.\n",
    "\n",
    "At this point, the tautology should be obvious - we have Q OR ~Q as one of our terms!  And since that's joined to the ~P with an OR it _doesn't matter_ what the value of ~P is.  If one of the statements true, the whole thing is _always_ true and Q OR ~Q is always true.  \n",
    "\n",
    "Let's see one more tautology involving our less primitive operators, this time we'll look at the biconditional:\n",
    "\n",
    "Lemma: (Q OR P) OR (P <==> Q) \n",
    "\n",
    "As per usual, we'll look at the truth table:\n",
    "\n",
    "|P    | Q   | Q OR P    | P <==> Q |(Q OR P) OR (P <==> Q)|\n",
    "|---  |---  |---        |---       |---                   |\n",
    "| T   | T   |   T       |     T    |        T             |  \n",
    "| T   | F   |   T       |     F    |        T             |\n",
    "| F   | T   |   T       |     F    |        T             |\n",
    "| F   | F   |   F       |     T    |        T             |\n",
    "\n",
    "QED.\n",
    "\n",
    "This statement says either P is true, Q is true or P is equivalent to Q.  Not a particularly powerful statement, but certainly worth knowing.  There are _many_ forms for a tautology to take.  And some of them are more obvious, while others are less so.  But if you can notice that a statement is in the form of a tautology, you can _automatically_ prove it with a truth table rather than having to prove any of the actual open statements.  Pretty powerful!  Of course, this is only useful, in so far as the statements _themselves_ are useful for us to know.  Some tautologies are very powerful, while others are essentially useless.  It all depends.\n",
    "\n",
    "Next we'll look at contradiction:\n",
    "\n",
    "A contradiction is the opposite of a tautology, and comes up _a lot_ in proofs.  In a contradiction, all the values are false, instead of all of them being true.  The simplest contradiction is P AND ~P.\n",
    "\n",
    "Lemma: P AND ~P is a contradiction.\n",
    "\n",
    "Proof:\n",
    "\n",
    "For this we will simply use a truth table, as is typical:\n",
    "\n",
    "| P   | ~P  | P AND ~P     | \n",
    "|---  |---  |---           |\n",
    "| T   | F   | F            |\n",
    "| F   | T   | F            |\n",
    "\n",
    "QED.\n",
    "\n",
    "What this says is, P can be true or false, but _not_ both.  Since P and ~P always have the opposite truth value, you can never have both being true at the same time.  Therefore, we always get a contradiction.  We leave as an exercise to the reader to come up with more examples of contradictions.\n",
    "\n",
    "Next let's look at the \"algebra\" of AND and OR:\n",
    "\n",
    "Commutative Laws:\n",
    "\n",
    "1. P OR Q is equivalent to Q or P.\n",
    "2. P AND Q is equivalent to Q AND P.\n",
    "\n",
    "Associative Laws:\n",
    "\n",
    "1. P OR (Q OR R) is equivalent to (P OR Q) OR R\n",
    "2. P AND (Q AND R) is equivalent to (P AND Q) AND R\n",
    "\n",
    "Distributive Laws:\n",
    "\n",
    "1. P OR (Q AND R) is equivalent to (P OR Q) AND (P OR R)\n",
    "2. P AND (Q OR R) is equivalent to (P AND Q) OR (P AND R)\n",
    "\n",
    "DeMorgan's Laws:\n",
    "\n",
    "1. ~ (P OR Q) is equivalent to (~ P) AND (~ Q)\n",
    "2. ~ (P AND Q) is equivalent to (~ P) OR (~ Q)\n",
    "\n",
    "We will leave it as an exercise to prove the above statements.\n",
    "\n",
    "This concludes the section on boolean operators.  Congradulations!  You just learned the basics of how to prove things.\n",
    "\n",
    "## Sets\n",
    "\n",
    "Now that we've learned about boolean operators and how to prove things, we are ready to introduce our next primitive, sets.  A set is a collection of objects.  In mathematicats this _usually_ means numbers, but not always.  As we've seen from Python, we can put many things into collections.\n",
    "\n",
    "Some examples of collections we've seen so far:\n",
    "\n",
    "A list:"
   ]
  },
  {
   "cell_type": "code",
   "execution_count": 3,
   "id": "437b9ba5",
   "metadata": {},
   "outputs": [],
   "source": [
    "listing = [1,2,3,4,5]"
   ]
  },
  {
   "cell_type": "markdown",
   "id": "30e9d5f5",
   "metadata": {},
   "source": [
    "A dictionary:"
   ]
  },
  {
   "cell_type": "code",
   "execution_count": 4,
   "id": "ddc2cf16",
   "metadata": {},
   "outputs": [],
   "source": [
    "dicter = {1:2, 3:4}"
   ]
  },
  {
   "cell_type": "markdown",
   "id": "c985cb83",
   "metadata": {},
   "source": [
    "Python even has a builtin set collection:"
   ]
  },
  {
   "cell_type": "code",
   "execution_count": 5,
   "id": "77d0ddc8",
   "metadata": {},
   "outputs": [],
   "source": [
    "set_of_numbers = set([1,2,3,4,5])"
   ]
  },
  {
   "cell_type": "markdown",
   "id": "cc75458a",
   "metadata": {},
   "source": [
    "One of the important differences between sets in Python and mathematical sets is, Python sets are _always_ finite.  We have no such restriction in mathematics.  And in fact, _most_ of the sets we'll study are infinite.  The 'smallest' infinite set we'll typically look at is the natural numbers, that is the set:\n",
    "\n",
    "$$\\mathbb{N} = [0,1,2,3,4...]$$\n",
    "\n",
    "Notice that $\\mathbb{N}$ starts with $0$.  Not all mathematicians believe this to be the case.  So, it's important to check.  Most computer scientists start the $\\mathbb{N}$ with 0, which is why we adopt this convention.\n",
    "\n",
    "But before we get into the typical stuff, let's start with some primitives.\n",
    "\n",
    "Set theory is about _membership_.  By understand what elements are in a set and what elements are outside a set, then we can prove things about the set.  In Python the equivalence here is the `in` operator.  \n",
    "\n",
    "The proofs we will look at, will start by selecting a single \"representative\" element from a given set, and show how that element is contained or not contained in another set.  By doing so, the relationship between two sets will be understood.\n",
    "\n",
    "Now let's look at some primitive operations on sets.  Consider the following diagram:"
   ]
  },
  {
   "cell_type": "code",
   "execution_count": 16,
   "id": "24b02180",
   "metadata": {},
   "outputs": [
    {
     "data": {
      "image/png": "[encoded data removed]",
      "text/plain": [
       "<Figure size 432x288 with 1 Axes>"
      ]
     },
     "metadata": {},
     "output_type": "display_data"
    }
   ],
   "source": [
    "from matplotlib_venn import venn2_circles, venn2\n",
    "import matplotlib.pyplot as plt\n",
    "\n",
    "c = venn2(subsets = (10, 11, 5))\n",
    "plt.show()"
   ]
  },
  {
   "cell_type": "markdown",
   "id": "63d3b331",
   "metadata": {},
   "source": [
    "Here the numbers are just used as identifiers, and hold no numeric meaning.  Using the above diagram as a reference we can define the following subsets:\n",
    "\n",
    "The '5' here represents the intersection of the two sets, written has A $\\cap$ B\n",
    "\n",
    "The '10' here represents all the elements only in A, written A - B.  \n",
    "\n",
    "The '11' here represents all the elements only in B, written B - A\n",
    "\n",
    "And finally the union which is all the elements in A, B or in their intersection is written A $\\cup$ B\n",
    "\n",
    "Notice that A $\\cup$ B is always the largest of these four subsets of the diagram.  We cannot say the same for the smallest.  It could be any of A $\\cap$ B, A - B, or B - A.\n",
    "\n",
    "The above venn diagram is the most typical case, however sometimes all the elements in A are also in B, or vice versa.\n",
    "\n",
    "If B is a subset of A:"
   ]
  },
  {
   "cell_type": "code",
   "execution_count": 19,
   "id": "671fa71c",
   "metadata": {},
   "outputs": [
    {
     "data": {
      "image/png": "[encoded data removed]",
      "text/plain": [
       "<Figure size 432x288 with 1 Axes>"
      ]
     },
     "metadata": {},
     "output_type": "display_data"
    }
   ],
   "source": [
    "c = venn2(subsets = (10, 0, 3))\n",
    "plt.show()"
   ]
  },
  {
   "cell_type": "markdown",
   "id": "516f2c5b",
   "metadata": {},
   "source": [
    "In this case A $\\cap$ B = B.  If that's the case then we write B $\\subseteq$ A, for B is a subset of A.\n",
    "\n",
    "Now let's prove some basic facts about sets:\n",
    "\n",
    "Lemma: Let A and B be sets.  A $\\cap$ B $\\subseteq$ A $\\cup$ B.\n",
    "\n",
    "Proof:\n",
    "\n",
    "In this proof we have a few cases:\n",
    "\n",
    "1. A $\\cap$ B = $\\emptyset$.\n",
    "\n",
    "The $\\emptyset$ is a short hand for the empty set, and means the set with no elements.  \n",
    "\n",
    "2. A $\\cap$ B $\\ne$ $\\emptyset$\n",
    "\n",
    "In this case the intersection contains at least 1 element.\n",
    "\n",
    "Let's do case 2 first, since it's more typical:\n",
    "\n",
    "Assume that A $\\cap$ B $\\ne$ $\\emptyset$.  Thus let us define x such that x $\\in$ A $\\cap$ B.  The $\\in$ operator indicates that our element is a _member_ of some set.\n",
    "\n",
    "Now we have:\n",
    "\n",
    "x $\\in$ A $\\cap$ B (by assumption)\n",
    "\n",
    "Therefore x $\\in$ A and x $\\in$ B.\n",
    "\n",
    "From here there are a couple of cases:\n",
    "\n",
    "1. A $\\subseteq$ B\n",
    "2. B $\\subseteq$ A\n",
    "3. some of the elements of A and B overlap, but not all of them.\n",
    "\n",
    "If we are in case 3 then, the following picture is a good depiction:"
   ]
  },
  {
   "cell_type": "code",
   "execution_count": 1,
   "id": "abaea252",
   "metadata": {},
   "outputs": [
    {
     "data": {
      "image/png": "[encoded data removed]",
      "text/plain": [
       "<Figure size 432x288 with 1 Axes>"
      ]
     },
     "metadata": {},
     "output_type": "display_data"
    }
   ],
   "source": [
    "from matplotlib_venn import venn2_circles, venn2\n",
    "import matplotlib.pyplot as plt\n",
    "\n",
    "c = venn2(subsets = (10, 11, 5))\n",
    "plt.show()"
   ]
  },
  {
   "cell_type": "markdown",
   "id": "a31e73d7",
   "metadata": {},
   "source": [
    "In this case, then we can see x $\\in$ A $\\cap$ B, here labeled '5'.  We can also see clearly from the picture that the 'or' operator subsumes the 'and' operator.  In particular if x $\\in$ A $\\cap$ B, then it is in A and B, which doesn't include the elements in the union of the form A - B or B - A.  Therefore, we can state:\n",
    "\n",
    "if x $\\in$ A $\\cap$ B => x $\\in$ A $\\cup$ B, but x $\\notin$ A - B and x $\\notin$ B - A.\n",
    "\n",
    "Let's now consider the case where B $\\subseteq$ A:\n",
    "\n",
    "As before, we assume x $\\in$ A $\\cap$ B, but now we also know B $\\subseteq$ A, so we have:\n",
    "\n",
    "x $\\in$ A $\\cap$ B => x $\\in$ B.  Suppose for a moment that, x $\\in$ A - B, then x $\\in$ A, but then x $\\notin$ B, which would violate our assumption that x $\\in$ A $\\cap$ B.  Note, that the above logic assumes that, by definition of B $\\subseteq$ A, all the elements in B are also in A, but the reverse is not true.\n",
    "\n",
    "Finally, we consider case 1, A $\\subseteq$ B:\n",
    "\n",
    "As before, we assume x $\\in$ A $\\cap$ B, but now we also know A $\\subseteq$ B, so we have:\n",
    "\n",
    "x $\\in$ A $\\cap$ B => x $\\in$ A.  Suppose for a moment that, x $\\in$ B - A, then x $\\in$ B, but then x $\\notin$ A, which would violate our assumption that x $\\in$ A $\\cap$ B.  \n",
    "\n",
    "Lastly, let us consider the case where A $\\cap$ B = $\\emptyset$.\n",
    "\n",
    "In this case, there are no elements x $\\in$ A $\\cap$ B, therefore the proof is vaccuously true by \n",
    "\n",
    "False => True is True and False => False is True.  So there are no cases, where the proof false.\n",
    "\n",
    "In the above, since the element x was non-specific, we can apply all of the steps above to any element of the sets.  Therefore it is true for all the elements of the sets.\n",
    "\n",
    "QED.\n",
    "\n",
    "One of the things we observed in this proof is:\n",
    "\n",
    "A $\\cup$ B = (A $\\cap$ B) $\\cup$ (A - B) $\\cup$ (B - A).  While we have verified this by the venn diagram picture above, sometimes it is useful to simply restate.  This will end up being a very useful fact for many proofs.  It allows us to directly show certain cases without having to consider a representative element.\n",
    "\n",
    "Next let's look at the following result:\n",
    "\n",
    "For every two sets A and B,\n",
    "\n",
    "A - B = A $\\cap$ $\\bar{B}$\n",
    "\n",
    "Here $\\bar{B}$ means the set of all the elements not in B.\n",
    "\n",
    "Proof:\n",
    "\n",
    "First we show that A - B $\\subseteq$ A $\\cap$ $\\bar{B}$.\n",
    "\n",
    "Let x $\\in$ A - B.\n",
    "\n",
    "Then x $\\in$ A and x $\\notin$ B.  Since x $\\notin$ B, it follows that x $\\in$ $\\bar{B}$.  \n",
    "\n",
    "Therefore, x $\\in$ A and x $\\in$ $\\bar{B}$, so x $\\in$ A $\\cap$ $\\bar{B}$.  Hence,\n",
    "\n",
    "A - B $\\subseteq$ A $\\cap$ $\\bar{B}$.\n",
    "\n",
    "Next we show that A $\\cap$ $\\bar{B}$ $\\subseteq$ A - B.\n",
    "\n",
    "Let x $\\in$ A $\\cap$ $\\bar{B}$.\n",
    "\n",
    "Then x $\\in$ A and $\\bar{B}$.  Since x $\\in$ $\\bar{B}$, it follows that x $\\notin$ B.\n",
    "\n",
    "Therefore, x $\\in$ A and x $\\notin$ B, so x $\\in$ A - B.  Hence,\n",
    "\n",
    "A $\\cap$ $\\bar{B}$ $\\subseteq$ A - B.\n",
    "\n",
    "QED\n",
    "\n",
    "Notice that in this proof we used a similiar mechanism for equality that we used for equivalence when we were going over logic.  \n",
    "\n",
    "Therefore there is an \"equivalence\" between P <==> Q and A = B.  Specifically, that:\n",
    "\n",
    "P => Q <==> A $\\subseteq$ B.\n",
    "\n",
    "Notice that, while these two operations are \"equivalent\" they are _not_ equal.  That's because P and Q are open statements, and A and B are _sets_.  These are different mathematical 'objects' and therefore equality is too strong a statement. \n",
    "\n",
    "There is a equivalent notion in Python for things that are similar but not the same:"
   ]
  },
  {
   "cell_type": "code",
   "execution_count": 2,
   "id": "3a1bd83c",
   "metadata": {},
   "outputs": [
    {
     "data": {
      "text/plain": [
       "True"
      ]
     },
     "execution_count": 2,
     "metadata": {},
     "output_type": "execute_result"
    }
   ],
   "source": [
    "1 == True"
   ]
  },
  {
   "cell_type": "code",
   "execution_count": 3,
   "id": "33eb7bcf",
   "metadata": {},
   "outputs": [
    {
     "data": {
      "text/plain": [
       "True"
      ]
     },
     "execution_count": 3,
     "metadata": {},
     "output_type": "execute_result"
    }
   ],
   "source": [
    "0 == False"
   ]
  },
  {
   "cell_type": "markdown",
   "id": "81df70c3",
   "metadata": {},
   "source": [
    "And yet,"
   ]
  },
  {
   "cell_type": "code",
   "execution_count": 4,
   "id": "d57add29",
   "metadata": {},
   "outputs": [
    {
     "name": "stderr",
     "output_type": "stream",
     "text": [
      "<>:1: SyntaxWarning: \"is\" with a literal. Did you mean \"==\"?\n",
      "<>:1: SyntaxWarning: \"is\" with a literal. Did you mean \"==\"?\n",
      "<ipython-input-4-63176c6536ac>:1: SyntaxWarning: \"is\" with a literal. Did you mean \"==\"?\n",
      "  1 is True\n"
     ]
    },
    {
     "data": {
      "text/plain": [
       "False"
      ]
     },
     "execution_count": 4,
     "metadata": {},
     "output_type": "execute_result"
    }
   ],
   "source": [
    "1 is True"
   ]
  },
  {
   "cell_type": "code",
   "execution_count": 5,
   "id": "96114ac0",
   "metadata": {},
   "outputs": [
    {
     "name": "stderr",
     "output_type": "stream",
     "text": [
      "<>:1: SyntaxWarning: \"is\" with a literal. Did you mean \"==\"?\n",
      "<>:1: SyntaxWarning: \"is\" with a literal. Did you mean \"==\"?\n",
      "<ipython-input-5-808c2f2e0e8d>:1: SyntaxWarning: \"is\" with a literal. Did you mean \"==\"?\n",
      "  0 is False\n"
     ]
    },
    {
     "data": {
      "text/plain": [
       "False"
      ]
     },
     "execution_count": 5,
     "metadata": {},
     "output_type": "execute_result"
    }
   ],
   "source": [
    "0 is False"
   ]
  },
  {
   "cell_type": "markdown",
   "id": "cf67bb8a",
   "metadata": {},
   "source": [
    "So even though `1` is _not_ `True` in Python, it is equivalent!  And even though `0` is _not_ `False`, it is also equivalent!\n",
    "\n",
    "For our next proof we will look at a statement related to something we've already used:\n",
    "\n",
    "Lemma: Let A and B be sets.  Then A $\\cup$ B = A if and only if B $\\subseteq$ A.\n",
    "\n",
    "Proof:\n",
    "\n",
    "First we show if A $\\cup$ B = A then B $\\subseteq$ A.  For this we'll need a new technique: the contrapositive.\n",
    "\n",
    "Definition: **Contrapositive**\n",
    "\n",
    "If P => Q, then the contrapositive is ~Q => ~P.  It has the following truth table:\n",
    "\n",
    "|P    | Q   | ~P     | ~Q      | P => Q  | ~Q => ~P |\n",
    "|---  |---  |---     |---      |---      |---       |\n",
    "| T   | T   | F      | F       |   T     |     T    |\n",
    "| T   | F   | F      | T       |   F     |     F    |\n",
    "| F   | T   | T      | F       |   T     |     T    |\n",
    "| F   | F   | T      | T       |   T     |     T    |\n",
    "\n",
    "As you can see, the contrapositive has the same truth table as the implication, so the two statements are equivalent.\n",
    "\n",
    "Continuing with the proof:\n",
    "\n",
    "The contrapositive of A $\\cup$ B = A then B $\\subseteq$ A is:\n",
    "\n",
    "B $\\subsetneq$ A then A $\\cup$ B $\\neq$ A.\n",
    "\n",
    "So now we need to show the contrapositive:\n",
    "\n",
    "By B $\\subsetneq$ A we have there exists some element x $\\in$ B such that x $\\notin$ A.\n",
    "\n",
    "Since x $\\in$ B, it follows that x $\\in$ A $\\cup$ B.  However, since x $\\notin$ A, we have A $\\cup$ B $\\neq$ A.\n",
    "\n",
    "Next we prove the other direction:\n",
    "\n",
    "If B $\\subseteq$ A then A $\\cup$ B = A.  Here we use a direct proof:\n",
    "\n",
    "We begin by assuming B $\\subseteq$ A.  To verify that A $\\cup$ B = A, we need to show that A $\\subseteq$ A $\\cup$ B and A $\\cup$ B $\\subseteq$ A:\n",
    "\n",
    "First, A $\\subseteq$ A $\\cup$ B follows from x $\\in$ A then x $\\in$ A $\\cup$ B, by definition.\n",
    "\n",
    "Second, A $\\cup$ B $\\subseteq$ A.\n",
    "\n",
    "Here we begin with y $\\in$ A $\\cup$ B.  Thus y $\\in$ A or y $\\in$ B. \n",
    "\n",
    "Cases:\n",
    "\n",
    "1. y $\\in$ A \n",
    "\n",
    "In this case, we are already done, because if y $\\in$ A then A $\\cup$ B $\\subseteq$ A.\n",
    "\n",
    "2. y $\\in$ B\n",
    "\n",
    "In this case, we make use of the fact that, by assumption B $\\subseteq$ A, which implies y $\\in$ A, and therefore A $\\cup$ B $\\subseteq$ A.\n",
    "\n",
    "QED.\n",
    "\n",
    "This proof was different than a lot of the proofs we had seen so far, there were many cases, and a lot of techniques required to show each of the steps.  The number of \"moving parts\" was relatively large.  Whenever you end up in a proof like this, sometimes decomposing your logic into cases can be helpful and greatly reduce the amount of individual effort needed to prove each case.  This technique is useful as well for thinking about problem solving in computer science, as we will see throughout this book.\n",
    "\n",
    "As a finale to our section on set theory (for now) we will look at some fundamental properties:\n",
    "\n",
    "Let A, B, and C be sets.  Then the following laws are true:\n",
    "\n",
    "Commutative Laws:\n",
    "\n",
    "1. A $\\cup$ B is equivalent to B $\\cup$ A.\n",
    "2. A $\\cap$ B is equivalent to B $\\cap$ A.\n",
    "\n",
    "Associative Laws:\n",
    "\n",
    "1. A $\\cup$ (B $\\cup$ C) is equivalent to (A $\\cup$ B) $\\cup$ C\n",
    "2. A $\\cap$ (B $\\cap$ C) is equivalent to (A $\\cap$ B) $\\cap$ C\n",
    "\n",
    "Distributive Laws:\n",
    "\n",
    "1. A $\\cup$ (B $\\cap$ C) is equivalent to (A $\\cup$ B) AND (A $\\cap$ C)\n",
    "2. A $\\cap$ (B $\\cup$ C) is equivalent to (A $\\cap$ B) $\\cup$ (A $\\cap$ C)\n",
    "\n",
    "DeMorgan's Laws:\n",
    "\n",
    "1. $\\overline{P \\cup Q}$ is equivalent to $\\bar{P} \\cap \\bar{Q}$\n",
    "2. $\\overline{A \\cap B}$ is equivalent to $\\bar{A} \\cup \\bar{B}$\n",
    "\n",
    "If these three sets of laws look familiar, _they should_.  These are the same laws for OR/AND/NOT when we were looking at logic.\n",
    "\n",
    "In general there are is a lot of overlap between logic and set theory.  In no small part this stems from how similar the primitives between the two branches of mathematics are.  To recap, those operators are:\n",
    "\n",
    "* logical equivalence and equality\n",
    "* AND and Intersection\n",
    "* OR and Union\n",
    "* Not and Complement (the $\\bar{A}$ operator).\n",
    "\n",
    "At the beginning of this section, I mentioned _membership_ being a central theme of the proofs in set theory, but it goes deeper than that, membership is the main focus of study within set theory.  Though it may not be obvious, this is similar to the main focus of study in logic -> the truth of a statement.\n",
    "\n",
    "We've already seen the reason why, from the Python code above:\n",
    "\n",
    "* It's because we can map True -> 1\n",
    "* And we can map False -> 0\n",
    "\n",
    "So what does 1 mean?  Well, think about what a membership function would need?  It would need to take in an element and a set, and return 1 if the element is a member of the set, and 0 if it's not.  \n",
    "\n",
    "Let's write down such a function in Python:"
   ]
  },
  {
   "cell_type": "code",
   "execution_count": 6,
   "id": "83843362",
   "metadata": {},
   "outputs": [
    {
     "data": {
      "text/plain": [
       "0"
      ]
     },
     "execution_count": 6,
     "metadata": {},
     "output_type": "execute_result"
    }
   ],
   "source": [
    "def membership(element, collection):\n",
    "    return int(element in collection)\n",
    "\n",
    "membership(5, set([1,2,3]))"
   ]
  },
  {
   "cell_type": "code",
   "execution_count": 7,
   "id": "f5ef5e2a",
   "metadata": {},
   "outputs": [
    {
     "data": {
      "text/plain": [
       "1"
      ]
     },
     "execution_count": 7,
     "metadata": {},
     "output_type": "execute_result"
    }
   ],
   "source": [
    "membership(3, set([1,2,3]))"
   ]
  },
  {
   "cell_type": "markdown",
   "id": "774fb333",
   "metadata": {},
   "source": [
    "So our membership function maps elements to the set `{0, 1}`.  Now to ask a very important question, is there anything _special_ about the set `{0, 1}`?  Or could the set `{False, True}` work just as well?  I've made the answer pretty obvious if you look at the code above, but just to really hit you over the head with the point:"
   ]
  },
  {
   "cell_type": "code",
   "execution_count": 8,
   "id": "388abadc",
   "metadata": {},
   "outputs": [
    {
     "data": {
      "text/plain": [
       "False"
      ]
     },
     "execution_count": 8,
     "metadata": {},
     "output_type": "execute_result"
    }
   ],
   "source": [
    "def membership2(element, collection):\n",
    "    return element in collection\n",
    "\n",
    "membership2(5, set([1,2,3]))"
   ]
  },
  {
   "cell_type": "markdown",
   "id": "1e128b14",
   "metadata": {},
   "source": [
    "The `membership2` function uses `{False, True}` instead of `{0, 1}`!  So what does this mean?  Well, it _means_ that at a _fundamental level_, membership in a set is like the truth of a statement.  Both in terms of the semantics and the _syntax_.  That is sets are concerned at the most primitive level between mapping stuff to a set with two things, and logic is concerned with mapping stuff to a set with two things.\n",
    "\n",
    "This connection will be very important for considering the next stop on our tour through mathematics, the (mathematical) function, which we will build up to from relations.\n",
    "\n",
    "## Towards Functions\n",
    "\n",
    "Before we get to (mathematical) functions, we need the language to get there.  If you are reading this book, you've probably seen functions for much of your life, but have you ever "
   ]
  },
  {
   "cell_type": "markdown",
   "id": "2042a86d",
   "metadata": {},
   "source": [
    "## Proofs in the Integers\n",
    "\n",
    "## Proofs in the Rationals\n",
    "\n",
    "* multiplication\n",
    "* division\n",
    "\n",
    "## Proofs in the Irrationals\n",
    "\n",
    "* irrationality\n",
    "\n",
    "## Proofs in the Reals\n",
    "\n",
    "* exponentials\n",
    "* logs\n",
    "\n",
    "## Sequence Proofs\n",
    "\n",
    "* 1 + 2 + 3 + .. + N = N(N -1)/2, etc.\n",
    "\n",
    "## Counting Proofs\n",
    "\n",
    "Combinations, permutations\n",
    "\n",
    "## Proof by induction"
   ]
  },
  {
   "cell_type": "code",
   "execution_count": null,
   "id": "7ae90b9e",
   "metadata": {},
   "outputs": [],
   "source": []
  }
 ],
 "metadata": {
  "kernelspec": {
   "display_name": "Python 3",
   "language": "python",
   "name": "python3"
  },
  "language_info": {
   "codemirror_mode": {
    "name": "ipython",
    "version": 3
   },
   "file_extension": ".py",
   "mimetype": "text/x-python",
   "name": "python",
   "nbconvert_exporter": "python",
   "pygments_lexer": "ipython3",
   "version": "3.9.5"
  }
 },
 "nbformat": 4,
 "nbformat_minor": 5
}
