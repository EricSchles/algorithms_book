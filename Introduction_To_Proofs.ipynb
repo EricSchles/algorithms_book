{
 "cells": [
  {
   "cell_type": "markdown",
   "id": "f762a0eb",
   "metadata": {},
   "source": [
    "# Introduction To Proofs\n",
    "\n",
    "In the last section we learned Python.  Next we will cover proofs, which will be a complete change of gears.  Then in the next section, introduction to counter examples, we will make a first attempt at combining programming and proofs.\n",
    "\n",
    "## What Is Mathematics?\n",
    "\n",
    "Although it's likely if you are reading this book you've studied mathematics before, potentially for a large part of your life, have you ever considered what mathematics is?  Take a moment to think about what mathematics means to you.  If you can, write down a definition.\n",
    "\n",
    "Now that you've thought about it for a few minutes, and come up with your own definition, let's consider some possible definitions that I thought about.\n",
    "\n",
    "Is mathematics the study of counting?  Certainly, mathematics started off about counting, and we can think of lots of ways to build from the counting to lots of other things.  But if all we interested in was counting, then things like geometry might be hard to think about.  So, I think we have to reject that as the definition.  Although, counting is certainly a _part_ of mathematics.  It's so important it's got it's own name, combinatorics.\n",
    "\n",
    "Is mathematics the study of numbers?  Mathematics definitely involves numbers.  But again we run into the problem with geometry still?  We can think of numbers as a natural extension of counting for a while, but at some point we reach numbers like $\\sqrt{2}$ which doesn't have an intuitive counting equivalent.  But this is a natural thing to do in geometry.\n",
    "\n",
    "Consider the following triangle:"
   ]
  },
  {
   "cell_type": "code",
   "execution_count": 5,
   "id": "c0f74c9e",
   "metadata": {},
   "outputs": [
    {
     "data": {
      "text/plain": [
       "[<matplotlib.lines.Line2D at 0x7ff86a2e65e0>]"
      ]
     },
     "execution_count": 5,
     "metadata": {},
     "output_type": "execute_result"
    },
    {
     "data": {
      "image/png": "[encoded data removed]",
      "text/plain": [
       "<Figure size 432x288 with 1 Axes>"
      ]
     },
     "metadata": {
      "needs_background": "light"
     },
     "output_type": "display_data"
    }
   ],
   "source": [
    "import matplotlib.pyplot as plt\n",
    "\n",
    "plt.plot([0, 1], [0, 1])\n",
    "plt.plot([0, 1], [0, 0])\n",
    "plt.plot([1, 1], [0, 1])"
   ]
  },
  {
   "cell_type": "markdown",
   "id": "5e15fcfc",
   "metadata": {},
   "source": [
    "If we are interested in it's hypotenuse we need to consider it's two other sides, which both measure length 1.  Then we apply the pythagorian formula for length:\n",
    "\n",
    "$$ C^{2} = A^{2} + B^{2} $$\n",
    "\n",
    "or\n",
    "\n",
    "$$ C = \\sqrt{A^{2} + B^{2}} $$\n",
    "\n",
    "In our case this yields:\n",
    "\n",
    "A = 1\n",
    "B = 1\n",
    "\n",
    "Therefore,\n",
    "\n",
    "$$ C = \\sqrt{1^{2} + 1^{2}}$$\n",
    "\n",
    "then we simply carry out the squaring:\n",
    "\n",
    "$$ C = \\sqrt{1 + 1}$$\n",
    "\n",
    "And carry out the addition:\n",
    "\n",
    "$$ C = \\sqrt{2}$$"
   ]
  },
  {
   "cell_type": "markdown",
   "id": "bdf35bbd",
   "metadata": {},
   "source": [
    "It is not easy to count $\\sqrt{2}$ and yet, it is a thing that occurs _very_ naturally.  So numbers cannot entirely be based on counting.  And even then, it's still not entirely obvious how to capture shapes in the numbers.  Of course, if we embed shapes in the cartesian plane, then this becomes clear, like we did above.  But what if we want to consider geometry _outside_ of the plane?  What then?\n",
    "\n",
    "I think this is at least a somewhat convincing argument that numbers are not a strong enough basis for the foundations of all of mathematics.  \n",
    "\n",
    "So is geometry?  Well geometry certainly can handle lots of cases.  But what happens when you need things like imaginary or complex numbers?  Or if you are dealing with dimensions that are fractional?  Or if a shape is not the right abstraction?  For instance, consider a social network:\n",
    "\n",
    "What shape best describes the connections between you and your friends?  While you might be able to capture this, wouldn't a discrete graph be better than a continuous one?  What about transformations between spaces?  How does geometry think about that?  It may not be easy to capture transformations of an N dimensional plane geometrically.  Especially if there are _affine_ transformations.  Or worse yet, if the transformation makes the space _smaller_, decreasing the number of dimensions of the space.\n",
    "\n",
    "No, I think geometry too must fail to be the central core of the study mathematics.  If you are unfamiliar with any of the above, not to worry!  The point of this book is to teach you about each of these things, to some degree.  At the very least, to introduce you to each of the above topics.  In case you've never seen the above topics before:\n",
    "\n",
    "The study of complex numbers is called complex analysis.  The study of spaces is called linear algebra, when we are dealing with translations between cartesian coordinates.  If we are dealing with discrete graphs, we are studying graph theory.  The study of spaces when we are not dealing with translations between cartesian coordinates is called topology.  There are many more fields of mathematics, like probability theory, category theory, homology, abstract algebra, real analysis, calculus, differential equations, and many more.  Each discipline is a _part_ of mathematics, but not all of it.  \n",
    "\n",
    "So in order to define mathematics, we have to ask ourselves, what do all of these things have _in common_?  My own working definition is this:\n",
    "\n",
    "Mathematics is the study of falsifiable statements, and primarily considered with coming up with _new_ true and false statements using a combination of logic, previously proven mathematical statements, and experimental evidence.\n",
    "\n",
    "So in order to learn mathematics, we need to know the _definitions_ of our subfield, we need to know logic, and we need to be able to check our logic for errors or counter examples.  If we can do all that, then we can do mathematics in _any_ subfield, no matter how sophisticated or simple.  Notice, that our definition requires that any statement we consider to prove mathematically be such that, it be either true or false, but not both.  This becomes very tricky in some parts of mathematics.\n",
    "\n",
    "For instance, if we consider probability, statistics, or machine learning, it's _not_ necessarily the case that any of the things we say or try to provide evidence for will _stay_ true.  This is where mathematics and science diverge.  Science necessarily has to allow for exceptional cases.  The hypotheses science attempts to prove necessarily have falsifiable.  But that doesn't mean that those statements _always_ be true.  Just that they be predictable.  There are millions of reasons a given experiment could fail, and that may or may not mean that the hypothesis under consideration is true or false.  That is because there is a component of experimental design, associated with an experiment.  And experimental design is subject to failures outside of the thing under observation.  One of these factors is, humans.  We define the parameters of our experiments, and that doesn't always mean we define them correctly.  We also have to analyze the data _after_ or _during_ the experiment has been carried out.  And often when that happens, there can be errors.  This implies that science is certainly interested in truth, but does not require the same tools, nor can we necessarily draw the same conclusions from mathematics that we can from science.\n",
    "\n",
    "This is not to say that both aren't _important_ and that they can't work together - they absolutely can and do.  It is my ascertion that both are requirements for the other.  Science helps grounds mathematics in usefulness, and mathematics allows us to extend the technical capabilities of all science.  Therefore, when done well, and learned seriously, the two skills naturally reinforce one another.  But too much of one and not the other can lead to cellings in how far you can go.  \n",
    "\n",
    "To summarize and extend, here are some of the areas of mathematics:\n",
    "\n",
    "* combinatorics\n",
    "* number theory\n",
    "* algebra\n",
    "* abstract algebra\n",
    "* linear algebra\n",
    "* real analysis\n",
    "* complex analysis\n",
    "* topology\n",
    "* algebraic topology\n",
    "* category theory\n",
    "* graph theory\n",
    "* geometry\n",
    "* algebraic geometry\n",
    "* probability theory\n",
    "* statistics\n",
    "* machine learning\n",
    "* numerical methods\n",
    "\n",
    "Each of these areas is rich with it's own storied history.  And each of these branches is certainly worthy of study.  That said, we will only have time and space in this text to study some of them, and only at the introductory level.  If you are interested in any of these topics, I highly recommend looking for a relevant set of sources at your nearest library.  Libribrians are a powerful resource, that often goes under utilized.  It's their job to help you find interesting.  Think of them like google search on steriods.  \n",
    "\n",
    "## An Introduction To Logic\n",
    "\n",
    "Logic is the study of statements that are true or false.  Using this binary set of cases, logicians build from basic notions to complex ones.  As an example of a falsifiable statement, consider the following statement:\n",
    "\n",
    "P: The integer 5 is odd.\n",
    "\n",
    "This statement can either be true or false, there is no wiggle room.  Either 5 is odd or it's even.  Those are our only options.  Whether or not 5 is odd will be proved soon, but for now, don't worry about that.  Now consider the following _open_ statement:\n",
    "\n",
    "P(x): The integer 5x is odd.\n",
    "\n",
    "The reason this statement is open is because we don't at the writing of the statement know the value of x.  That means it could be either case, until x is given.  If we were dealing with a Python program like this, it would be one where all the functions return a boolean.  Another example of an open statement, in Python would be:"
   ]
  },
  {
   "cell_type": "code",
   "execution_count": 8,
   "id": "bd5fbf48",
   "metadata": {},
   "outputs": [],
   "source": [
    "def is_x_even(x):\n",
    "    return x % 2 == 0"
   ]
  },
  {
   "cell_type": "markdown",
   "id": "d3aaebfd",
   "metadata": {},
   "source": [
    "Here we are asking if x is even.  If it is, then the function returns true.  If it's odd, the function returns false.  Let's take some examples:"
   ]
  },
  {
   "cell_type": "code",
   "execution_count": 9,
   "id": "8114e9d5",
   "metadata": {},
   "outputs": [
    {
     "data": {
      "text/plain": [
       "True"
      ]
     },
     "execution_count": 9,
     "metadata": {},
     "output_type": "execute_result"
    }
   ],
   "source": [
    "is_x_even(2)"
   ]
  },
  {
   "cell_type": "code",
   "execution_count": 10,
   "id": "8c6b2987",
   "metadata": {},
   "outputs": [
    {
     "data": {
      "text/plain": [
       "False"
      ]
     },
     "execution_count": 10,
     "metadata": {},
     "output_type": "execute_result"
    }
   ],
   "source": [
    "is_x_even(3)"
   ]
  },
  {
   "cell_type": "markdown",
   "id": "c316e935",
   "metadata": {},
   "source": [
    "See!  Pretty neat right?  If we want to assess whether an open statement is always true or always false however, we cannot rely on _any_ programming language.  This is because programs are constrained by the computers running those programs, and the compute power associated with those computers.  That means, there is a limit to what a computer can figure out for us.  Next let's look at how a human would check an open statement:\n",
    "\n",
    "Suppose P is an open statement, that means it can be either True or False:\n",
    "\n",
    "|   P |\n",
    "|---\n",
    "| T  |\n",
    "| F  |\n",
    "\n",
    "So we have two possible states for our statement.  What if we had two open statements?  Then we would have 4 possible states:\n",
    "\n",
    "| P   |  Q |\n",
    "|---  |---\n",
    "|  T | T | \n",
    "|  T | F | \n",
    "|  F | T |  \n",
    "|  F | F |\n",
    "\n",
    "What if we have three open statements?  Then we have 8 possible states:\n",
    "\n",
    "|P    | Q   | R |\n",
    "|---  |---  |---\n",
    "| T   | T   | T |\n",
    "| T   | T   | F |\n",
    "| T   | F   | T |\n",
    "| T   | F   | F |\n",
    "| F   | T   | T |\n",
    "| F   | T   | F |\n",
    "| F   | F   | T |\n",
    "| F   | F   | F |\n",
    "\n",
    "The above three diagrams are called truth tables and describe the possible states of open statements.  What's powerful about these, is they describe the entire state of a set of statements.  As we'll come to see, when we combine these with boolean operators, we'll be able to make some powerful insights.  \n",
    "\n",
    "## Boolean Operators\n",
    "\n",
    "We've already seen these in the last section on Python, for the most part.  There will be a few new additions, but for the most part, this should be review.  First consider a single open statement, like\n",
    "\n",
    "P: The integer 2x is even.\n",
    "\n",
    "What is the negation of that statement?\n",
    "\n",
    "~P: The integer 2x is not even.  \n",
    "\n",
    "OR\n",
    "\n",
    "~P: The integer 2x is odd.\n",
    "\n",
    "Next, let's write down the truth table for P and ~P:\n",
    "\n",
    "| P  | ~P |\n",
    "|--- |--- |\n",
    "| T  | F  |\n",
    "| F  | T  |\n",
    "\n",
    "Notice, that while the truth table for two variables has four possible states, the truth table for a statement and it's negation only has two.  That is because ~P contains the same amount of information as P, except with the opposite values.  In otherwords, there is no extra state information in "
   ]
  },
  {
   "cell_type": "code",
   "execution_count": null,
   "id": "7819ee39",
   "metadata": {},
   "outputs": [],
   "source": []
  },
  {
   "cell_type": "code",
   "execution_count": null,
   "id": "57bda273",
   "metadata": {},
   "outputs": [],
   "source": []
  }
 ],
 "metadata": {
  "kernelspec": {
   "display_name": "Python 3",
   "language": "python",
   "name": "python3"
  },
  "language_info": {
   "codemirror_mode": {
    "name": "ipython",
    "version": 3
   },
   "file_extension": ".py",
   "mimetype": "text/x-python",
   "name": "python",
   "nbconvert_exporter": "python",
   "pygments_lexer": "ipython3",
   "version": "3.9.5"
  }
 },
 "nbformat": 4,
 "nbformat_minor": 5
}
