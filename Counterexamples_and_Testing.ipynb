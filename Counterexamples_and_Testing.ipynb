{
 "cells": [
  {
   "cell_type": "markdown",
   "id": "f261ceb7",
   "metadata": {},
   "source": [
    "# Testing\n",
    "\n",
    "In the last section we learned how to prove or verify things.  One of the techniques we saw was proof by counter example.  This powerful technique honestly doesn't get enough love or attention in most mathematical theory books.  This is likely because it's not terribly interesting from a purely theoretical perspective.  Specifically, how do you intelligently guess a bad example?  If we _could_ do that, then we'd probably know ahead of time that our theorem or lemma was correct or incorrect ahead of time, right?\n",
    "\n",
    "Well, it turns out, this is one of the great powers of computational systems.  We don't _need_ to guess intelligently when computers are involved, because we can guess thousands or millions or even _billions_ of times without doing very much work.  \n",
    "\n",
    "In this chapter we will introduce a number of ideas which will aid us in finding counterexamples for conjectures regarding mathematical statements.  We will use Python in order to do this and a mental 'testing' framework.  Additionally, to ensure that our set up is not the reason that our tests pass, we will be running all of our tests in a tool called Docker.  In general, Docker will be useful throughout the book because of the content we will cover in the next section, however traditionally, it is taught along side testing, so we introduce it here.\n",
    "\n",
    "Finally, we will need an understanding of randomness in order to intelligently search for counter examples, so we'll see some rudiments of probability and statistics in this chapter as well.\n",
    "\n",
    "## Proof By Counter Example\n",
    "\n",
    "## Testing In Python\n",
    "\n",
    "## Docker\n",
    "\n",
    "## Sequential Testing\n",
    "\n",
    "## Introduction To Randomness\n",
    "\n",
    "* probability basics\n",
    "* distributions\n",
    "* ?? (maybe more)\n",
    "\n",
    "## Random Testing\n",
    "\n"
   ]
  },
  {
   "cell_type": "code",
   "execution_count": null,
   "id": "8c7beae5",
   "metadata": {},
   "outputs": [],
   "source": []
  }
 ],
 "metadata": {
  "kernelspec": {
   "display_name": "Python 3",
   "language": "python",
   "name": "python3"
  },
  "language_info": {
   "codemirror_mode": {
    "name": "ipython",
    "version": 3
   },
   "file_extension": ".py",
   "mimetype": "text/x-python",
   "name": "python",
   "nbconvert_exporter": "python",
   "pygments_lexer": "ipython3",
   "version": "3.9.5"
  }
 },
 "nbformat": 4,
 "nbformat_minor": 5
}
