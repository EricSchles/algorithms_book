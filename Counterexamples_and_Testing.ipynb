{
 "cells": [
  {
   "cell_type": "markdown",
   "id": "f261ceb7",
   "metadata": {},
   "source": [
    "# Counter Examples and Testing\n",
    "\n",
    "In the last section we learned how to prove or verify things.  In this section we'll learn about one of the technique for proving mathematical statements: proof by counter example.  This powerful technique honestly doesn't get enough love or attention in most mathematical theory books.  This is likely because it's not terribly interesting from a purely theoretical perspective.  To carry out a proof by counter example, you simply need to find _some_ example that your statement fails on.  This is because mathematical statements are _either_ true or false, but never both.  We saw this in the last section with respect to logic.  \n",
    "\n",
    "What is likely 'uninteresting' about proof by counterexample comes from a question - how do you intelligently guess a bad example?  If we _could_ do that, then we'd probably know ahead of time that our theorem or lemma was correct or incorrect ahead of time, right?\n",
    "\n",
    "Well, it turns out, this is one of the great powers of computational systems.  We don't _need_ to guess intelligently when computers are involved, because we can guess thousands or millions or even _billions_ of times without doing very much work.  \n",
    "\n",
    "In this chapter we will introduce a number of ideas which will aid us in finding counterexamples for conjectures regarding mathematical statements.  We will use Python in order to do this and a mental 'testing' framework.  Additionally, to ensure that our set up is not the reason that our tests pass, we will be running all of our tests in a tool called Docker.  In general, Docker will be useful throughout the book because of the content we will cover in the next section, however traditionally, it is taught along side testing, so we introduce it here.\n",
    "\n",
    "Finally, we will need an understanding of randomness in order to intelligently search for counter examples, so we'll see some rudiments of probability and statistics in this chapter as well.\n",
    "\n",
    "## Proof By Counter Example\n",
    "\n",
    "Before we see how to do this in Python, let's look at some example proofs that make use of counterexamples.  As we stated above, proof by counterexample occurs when we come up with an example that disproves a conjecture.  Let's look at some example:\n",
    "\n",
    "Conjecture:\n",
    "\n",
    "The function $f(x) = x^{4}$ is bijective such that $f: \\mathbb{R} \\rightarrow \\mathbb{R}$.\n",
    "\n",
    "Disprove:\n",
    "\n",
    "Note: Here we say disprove, because we are **not** trying to prove the conjecture, but refute it.\n",
    "\n",
    "Assume $f(x) = x^{4}$ is a bijective function.  This implies that $\\forall$ x in the domain such that x $\\in \\mathbb{R}$ there is _one and only one_ y in the codomain, such that y $\\in \\mathbb{R}$.\n",
    "\n",
    "Counter example:\n",
    "\n",
    "both (1, 1), (-1, 1) $\\in f$:\n",
    "\n",
    "$1^{4}$ = 1\n",
    "\n",
    "$-1^{4}$ = 1\n",
    "\n",
    "Thus, $x^{4}$ is *not* bijective.\n",
    "\n",
    "QED.\n",
    "\n",
    "The general structure of this proof by counter example was to state the condition required for the statement to be true, and then show that a specific example fails to meet that condition.\n",
    "\n",
    "Conjecture:\n",
    "\n",
    "Any function of the form $f(x) = x^{k}$ where k is even, in otherwords, k = 2 * l for some l $\\in \\mathbb{Z}$.\n",
    "\n",
    "To show a counter example here, we need to cover every function such that $f(x) = x^{k}$ where k is even.\n",
    "\n",
    "Choose a $\\in \\mathbb{R}$ and -a $\\in \\mathbb{R}$ as elements from the domain.   To get the corresponding elements in the codomain we simply do:\n",
    "\n",
    "$$f(a) = a^{k} = a^{2l} = (a^{l})^{2}$$\n",
    "$$f(-a) = -a^{k} = -a^{2l} = (-a^{l})^{2}$$\n",
    "\n",
    "At this point we need a specific fact - \n",
    "\n",
    "Lemma: Any x $\\in \\mathbb{R}$ such that $x = y^{2}$ will be >= 0.\n",
    "\n",
    "Proof:\n",
    "\n",
    "Case 1: y > 0:\n",
    "\n",
    "y > 0, therefore y * y > 0.\n",
    "\n",
    "Case 2: y < 0:\n",
    "\n",
    "y < 0, therefore we can do (-1) * y > 0.\n",
    "\n",
    "((-1) * y) * ((-1) * y) > 0. (since we want to know the behavior of $y^{2}$).\n",
    "\n",
    "(-1) * (-1) * y * y > 0. (rearranging because mutliplication is associative)\n",
    "\n",
    "y * y > 0. (by -1 * -1 = 1 and 1 * a = a $\\forall$a)\n",
    "\n",
    "QED.\n",
    "\n",
    "Back to the original proof.  Now we know $x^{2}$ > 0.  So we know:\n",
    "\n",
    "$$ (a^{l})^{2} = (-a^{l})^{2} $$ \n",
    "\n",
    "Since the only difference between the left and right hand side of the equation is the `-` symbol.  Therefore,\n",
    "\n",
    "(a, $a^{k}$), (-a, $a^{k}$) $\\in f(x)= x^{k}$, $\\forall k$ such that k is even.\n",
    "\n",
    "So we have found _infinite_ counter examples.\n",
    "\n",
    "QED.\n",
    "\n",
    "Now that we understand how to prove things by counterexample, let's move onto how Python can aid us in looking for counterexamples through automation.\n",
    "\n",
    "## Testing In Python\n",
    "\n",
    "In the last section we looked at how to come up with counterexamples to falisfy conjectures.  Now we'll learn how to extend that to code.  The ideas are essentially analogous, so let's jump right into an example.\n",
    "\n",
    "Suppose you have some code:"
   ]
  },
  {
   "cell_type": "code",
   "execution_count": 1,
   "id": "8229069a",
   "metadata": {},
   "outputs": [],
   "source": [
    "def multiplication(x, y):\n",
    "    product = 0\n",
    "    for _ in range(y):\n",
    "        product += x\n",
    "    return product"
   ]
  },
  {
   "cell_type": "markdown",
   "id": "c3d1a9ab",
   "metadata": {},
   "source": [
    "How can you be sure that the function works as expected?  The answer is to try _cases_.  These are specific examples we expect to work on the code, and the hope is that these examples are representative.\n",
    "\n",
    "Let's write some tests for the above function:"
   ]
  },
  {
   "cell_type": "code",
   "execution_count": 2,
   "id": "89ede0ad",
   "metadata": {},
   "outputs": [
    {
     "ename": "TypeError",
     "evalue": "'float' object cannot be interpreted as an integer",
     "output_type": "error",
     "traceback": [
      "\u001b[0;31m---------------------------------------------------------------------------\u001b[0m",
      "\u001b[0;31mTypeError\u001b[0m                                 Traceback (most recent call last)",
      "\u001b[0;32m<ipython-input-2-542a049348c2>\u001b[0m in \u001b[0;36m<module>\u001b[0;34m\u001b[0m\n\u001b[1;32m     26\u001b[0m \u001b[0mtest_five_multiplication\u001b[0m\u001b[0;34m(\u001b[0m\u001b[0;34m)\u001b[0m\u001b[0;34m\u001b[0m\u001b[0;34m\u001b[0m\u001b[0m\n\u001b[1;32m     27\u001b[0m \u001b[0mtest_six_multiplication\u001b[0m\u001b[0;34m(\u001b[0m\u001b[0;34m)\u001b[0m\u001b[0;34m\u001b[0m\u001b[0;34m\u001b[0m\u001b[0m\n\u001b[0;32m---> 28\u001b[0;31m \u001b[0mtest_seven_multiplication\u001b[0m\u001b[0;34m(\u001b[0m\u001b[0;34m)\u001b[0m\u001b[0;34m\u001b[0m\u001b[0;34m\u001b[0m\u001b[0m\n\u001b[0m",
      "\u001b[0;32m<ipython-input-2-542a049348c2>\u001b[0m in \u001b[0;36mtest_seven_multiplication\u001b[0;34m()\u001b[0m\n\u001b[1;32m     18\u001b[0m \u001b[0;34m\u001b[0m\u001b[0m\n\u001b[1;32m     19\u001b[0m \u001b[0;32mdef\u001b[0m \u001b[0mtest_seven_multiplication\u001b[0m\u001b[0;34m(\u001b[0m\u001b[0;34m)\u001b[0m\u001b[0;34m:\u001b[0m\u001b[0;34m\u001b[0m\u001b[0;34m\u001b[0m\u001b[0m\n\u001b[0;32m---> 20\u001b[0;31m     \u001b[0;32massert\u001b[0m \u001b[0mmultiplication\u001b[0m\u001b[0;34m(\u001b[0m\u001b[0;36m2\u001b[0m\u001b[0;34m,\u001b[0m \u001b[0;36m2.5\u001b[0m\u001b[0;34m)\u001b[0m \u001b[0;34m==\u001b[0m \u001b[0;36m5\u001b[0m\u001b[0;34m\u001b[0m\u001b[0;34m\u001b[0m\u001b[0m\n\u001b[0m\u001b[1;32m     21\u001b[0m \u001b[0;34m\u001b[0m\u001b[0m\n\u001b[1;32m     22\u001b[0m \u001b[0mtest_one_multiplication\u001b[0m\u001b[0;34m(\u001b[0m\u001b[0;34m)\u001b[0m\u001b[0;34m\u001b[0m\u001b[0;34m\u001b[0m\u001b[0m\n",
      "\u001b[0;32m<ipython-input-1-acc5898df278>\u001b[0m in \u001b[0;36mmultiplication\u001b[0;34m(x, y)\u001b[0m\n\u001b[1;32m      1\u001b[0m \u001b[0;32mdef\u001b[0m \u001b[0mmultiplication\u001b[0m\u001b[0;34m(\u001b[0m\u001b[0mx\u001b[0m\u001b[0;34m,\u001b[0m \u001b[0my\u001b[0m\u001b[0;34m)\u001b[0m\u001b[0;34m:\u001b[0m\u001b[0;34m\u001b[0m\u001b[0;34m\u001b[0m\u001b[0m\n\u001b[1;32m      2\u001b[0m     \u001b[0mproduct\u001b[0m \u001b[0;34m=\u001b[0m \u001b[0;36m0\u001b[0m\u001b[0;34m\u001b[0m\u001b[0;34m\u001b[0m\u001b[0m\n\u001b[0;32m----> 3\u001b[0;31m     \u001b[0;32mfor\u001b[0m \u001b[0m_\u001b[0m \u001b[0;32min\u001b[0m \u001b[0mrange\u001b[0m\u001b[0;34m(\u001b[0m\u001b[0my\u001b[0m\u001b[0;34m)\u001b[0m\u001b[0;34m:\u001b[0m\u001b[0;34m\u001b[0m\u001b[0;34m\u001b[0m\u001b[0m\n\u001b[0m\u001b[1;32m      4\u001b[0m         \u001b[0mproduct\u001b[0m \u001b[0;34m+=\u001b[0m \u001b[0mx\u001b[0m\u001b[0;34m\u001b[0m\u001b[0;34m\u001b[0m\u001b[0m\n\u001b[1;32m      5\u001b[0m     \u001b[0;32mreturn\u001b[0m \u001b[0mproduct\u001b[0m\u001b[0;34m\u001b[0m\u001b[0;34m\u001b[0m\u001b[0m\n",
      "\u001b[0;31mTypeError\u001b[0m: 'float' object cannot be interpreted as an integer"
     ]
    }
   ],
   "source": [
    "def test_one_multiplication():\n",
    "    assert multiplication(5, 6) == 30\n",
    "    \n",
    "def test_two_multiplication():\n",
    "    assert multiplication(1, 6) == 6\n",
    "\n",
    "def test_three_multiplication():\n",
    "    assert multiplication(0, 6) == 0\n",
    "    \n",
    "def test_four_multiplication():\n",
    "    assert multiplication(6, 1) == 6\n",
    "    \n",
    "def test_five_multiplication():\n",
    "    assert multiplication(6, 0) == 0\n",
    "\n",
    "def test_six_multiplication():\n",
    "    assert multiplication(2.5, 2) == 5\n",
    "    \n",
    "def test_seven_multiplication():\n",
    "    assert multiplication(2, 2.5) == 5\n",
    "\n",
    "test_one_multiplication()\n",
    "test_two_multiplication()\n",
    "test_three_multiplication()\n",
    "test_four_multiplication()\n",
    "test_five_multiplication()\n",
    "test_six_multiplication()\n",
    "test_seven_multiplication()"
   ]
  },
  {
   "cell_type": "markdown",
   "id": "f52203e1",
   "metadata": {},
   "source": [
    "Looks like our implementation failed on test seven!  This is because we implemented multiplication in such a way as it does not succeed if the second parameter is a float.\n",
    "\n",
    "In general testing is a way of assessing correctness, the same way that we can assess correctness for a proof.  It may seem like we haven't really done much, but testing allows us to have _assurance_ that our algorithms are correct on those specific cases.  So if there is something wrong with our implementation, we can always assess it.\n",
    "\n",
    "In general the syntax for tests will always be:\n",
    "\n",
    "```\n",
    "def test_[number]_[function we are testing](param1, param2, .. paramN):\n",
    "    some logic to set up the test goes here\n",
    "    assert [function we are testing] == [some case where we know the expected output]\n",
    "```\n",
    "\n",
    "Notice the use of `assert` here.  The way `assert` works is, it checks a boolean.  \n",
    "\n",
    "If the boolean is true - then nothing happens.\n",
    "If the boolean is false - then an error is raised.\n",
    "\n",
    "In this way we can _always_ tell if the program failed.  And it will fail _explicitly_.\n",
    "\n",
    "Now that we know the basics of testing, time to go over some more technology that we'll be using throughout this book."
   ]
  },
  {
   "cell_type": "markdown",
   "id": "94081db0",
   "metadata": {},
   "source": [
    "## Docker && Terraform\n",
    "\n",
    "In general, algorithms will perform differently on different machines.  This might be because of the operating system, the version of programming language, in our case Python, or because of the hardware.  There isn't much we can do to assess hardware related performance checks, unless you happen to have a bunch of computers lying around.  But we _can_ check for differences in performance due to the operating system and the version of Python.  For this we are going to need to _simulate_ the operating system and version of Python.  Mostly because installing a bunch of different operating systems and Python versions on one physical computer is a giant pain.\n",
    "\n",
    "For this we will be using Docker, a powerful and relatively easy to use tool for simulating an operating system.  As for what kinds of operating systems we'll be using - this will be only flavors of linux.  That's because windows isn't free, and the author feels charging someone for learning tools is unfair.  \n",
    "\n",
    "### Installation\n",
    "\n",
    "In order to get docker working please follow along with this [guide](https://docs.docker.com/get-docker/).  Make\n",
    "\n",
    "Now that you have docker installed, please go ahead and register for [dockerhub](https://hub.docker.com/)\n",
    "\n",
    "### Getting Started\n",
    "\n",
    "Now that you have docker installed, let's talk about exactly how it works and what it is.  Docker is a \"runtime\" environment for \"containers\".  A container is like an operating system, except very tiny and only with the specific pieces you want.  You can have a container that does _everything_ a regular operating system does, but typically you only want or need certain parts of the operating system.  \n",
    "\n",
    "Now that we've talked about _what_ docker is (a little), let's talk about why you would use it.  Docker allows you to package up an environment along with an application, and ensure that the application will always run, regardless of what machine it's on.  If you've ever tried to get someone else's application running from source, then you will understand just how powerful this is.  Before containers and Docker (which are two seperate things), it was _very_ hard for software engineers to package up their code into applications.  And many 'applications' you'd find on github and other open source systems would be _very_ hard to get running.  With containers, you can just pull down the environment that the original developers used, and run the code (assuming the container was created correctly).  More or less, in developer speak, containers let you \"ship your machine\" along with the code.  So you don't have to worry as much.\n",
    "\n",
    "Now, why will we be using Docker?  This is getting a little ahead of things, but it's worth it to understand the motivation.  We are learning Docker/containers because not all operating systems will run the same code the same way.  And by using this technology we can ensure that we have enough statistically diverse environments to ensure we get an accurate measure of the algorithmic performance of our code.  If this motivation went over your head, don't worry too much.  We'll be introducing the analysis of algorithms soon.  And hopefully then it will make much more sense.\n",
    "\n",
    "Alright!  Now it's time to try making some docker containers!  We'll start with the \"hello world\" example.  This is the example that does the _least_ amount possible.  So it should be the easiest for anyone to create.\n",
    "\n",
    "\n",
    "First, create a directory called hello_world, then `cd` into that directory and then you'll save the following code to a file, hello_world.py:"
   ]
  },
  {
   "cell_type": "code",
   "execution_count": null,
   "id": "cfdffd8d",
   "metadata": {},
   "outputs": [],
   "source": [
    "print(\"Hello World!\")"
   ]
  },
  {
   "cell_type": "markdown",
   "id": "c4bf946a",
   "metadata": {},
   "source": [
    "If you aren't familiar with the command line, I highly recommend checking out:\n",
    "* [this introduction](https://cs.lmu.edu/~ray/notes/bash/) \n",
    "* [this introduction](https://livecodestream.dev/post/introduction-to-bash-for-beginners/) \n",
    "* [this introduction](https://tldp.org/HOWTO/Bash-Prog-Intro-HOWTO.html) \n",
    "* [this cheatsheet](https://www.educative.io/blog/bash-shell-command-cheat-sheet)\n",
    "\n",
    "Next, we'll create a file called a Dockerfile, this file store the instructions for creating our container:"
   ]
  },
  {
   "cell_type": "markdown",
   "id": "21ea2d30",
   "metadata": {},
   "source": [
    "```\n",
    "FROM python:3.6-slim\n",
    "\n",
    "WORKDIR /app\n",
    "\n",
    "ADD . /app\n",
    "\n",
    "RUN pip install -r requirements.txt\n",
    "\n",
    "EXPOSE 80\n",
    "\n",
    "ENV NAME HelloWorld\n",
    "\n",
    "ENTRYPOINT [\"python\", \"hello_world.py\"]\n",
    "```"
   ]
  },
  {
   "cell_type": "markdown",
   "id": "f020522f",
   "metadata": {},
   "source": [
    "Note: explain docker file code.\n",
    "\n",
    "Now that you've got your Dockerfile and your code, you'll create your container with:"
   ]
  },
  {
   "cell_type": "markdown",
   "id": "c0b87efa",
   "metadata": {},
   "source": [
    "`docker build -t hello_world:0.1 .`"
   ]
  },
  {
   "cell_type": "markdown",
   "id": "aa94fc4a",
   "metadata": {},
   "source": [
    "Okay now go ahead and run your docker container with:"
   ]
  },
  {
   "cell_type": "markdown",
   "id": "704b4048",
   "metadata": {},
   "source": [
    "`docker run -p 80:80 hello_world:0.1`"
   ]
  },
  {
   "cell_type": "markdown",
   "id": "ebc4856e",
   "metadata": {},
   "source": [
    "And that you've got the basics for dockerfiles you are ready to push your container up to dockerhub.  Then you can use the container from any machine!\n",
    "\n",
    "Pulling down docker containers can be kinda a pain, so to use it, we'll make use of another technology: Terraform.\n",
    "\n",
    "The reason we are introduing a second technology is, the author has created docker containers for each algorithm and pushed them to dockerhub, as well as included terraform scripts to pulldown each container.  So in order to make your life as well as the instructor's life easier, we are going to make use of this tool.\n",
    "\n",
    "### Terraform\n",
    "\n",
    "Terraform is a tool for deploying a service to some \"infrastructure\" this typically means the cloud, but in our case, it means to docker.  Using terraform it will be easy to download a given piece of code, run the code, get the necessary data from the code, and do the homeworks.  At first this make seem daunting, having to learn so many new technologies all in a row, but it will be to your benefit, as these tools are _also_ industry standard for computer scientists.\n",
    "\n",
    "Because the Terraform documentation is so good, please head to the [official docs](https://learn.hashicorp.com/collections/terraform/docker-get-started) to get started with terraform\n",
    "\n",
    "Now that you know how terraform works, let's run the following script to pull down our hello_world example:"
   ]
  },
  {
   "cell_type": "code",
   "execution_count": 4,
   "id": "8cd3d174",
   "metadata": {},
   "outputs": [],
   "source": [
    "#terraform script goes here"
   ]
  },
  {
   "cell_type": "markdown",
   "id": "578ca720",
   "metadata": {},
   "source": [
    "Recall from the tutorial we need to run:\n",
    "\n",
    "* `terraform init`\n",
    "* `terraform fmt`\n",
    "* `terraform plan`\n",
    "* `terraform apply`\n",
    "\n",
    "from the command line.  Once we've done that, the docker container should be running!"
   ]
  },
  {
   "cell_type": "markdown",
   "id": "44ca5e45",
   "metadata": {},
   "source": [
    "Now that we've seen how to containerize our code.  And push and pull our containers, let's move onto some more testing paradigms.  \n",
    "\n",
    "## Sequential Testing\n",
    "\n",
    "If your algorithm is the first of it's kind to do a specific thing, then testing specific values is the best you can hope for.  That said, many algorithms actually do _the same thing_ just in different ways.  In this sense, we can think of an algorithm like a mathematical relation, except instead of one rule that gives us the mathematical rule on the relation, we can have _several_ primitives build up to a rule in different ways.  This difference in how primitives are used to build towards mathematical rules is what allows algorithms to vary in performance in terms of speed.  For algorithms, it is not enough to be correct, it is also about getting to the right answer quickly.  \n",
    "\n",
    "Of course, correctness cannot always be guaranteed with an algorithm in absolute terms, the way it can be for a mathematical function.  This is due to the limited capacity of memory in computers - there is a finite amount of numbers a computer can accurately express, even when it comes to the integers.  This is even worse for the floating point numbers since even very small numbers, in terms of magnitude, can have many significant digits.  So, typically when we think of correctness for algorithms, we think about this in terms of some _large_ set of computables, but not _every_ number.  \n",
    "\n",
    "Given the above notion of correctness, as well as the ability to choose from a variety of \"correct\" algorithms, it is often advantageous to choose a given correct, however possibly inefficient algorithm and use that as a sanity check for a range of values for a new and possibly more efficient algorithm.\n",
    "\n",
    "### Example\n",
    "\n",
    "A very common task in algorithms is sorting numbers.  Below we'll look at a very simple sorting routinue, that takes in a list of numbers and sorts them from lowest to highest:"
   ]
  },
  {
   "cell_type": "code",
   "execution_count": 2,
   "id": "e199c24c",
   "metadata": {},
   "outputs": [],
   "source": [
    "def simple_sort(arr):\n",
    "    for i in range(len(arr)):\n",
    "        for j in range(len(arr)):\n",
    "            if arr[i] < arr[j]:\n",
    "                arr[i], arr[j] = arr[j], arr[i]\n",
    "    return arr"
   ]
  },
  {
   "cell_type": "markdown",
   "id": "35e0a0fe",
   "metadata": {},
   "source": [
    "Let's look at an example list and see the sorted list:"
   ]
  },
  {
   "cell_type": "code",
   "execution_count": 3,
   "id": "9e07d76e",
   "metadata": {},
   "outputs": [
    {
     "data": {
      "text/plain": [
       "[1, 2, 2, 4, 5, 6, 7]"
      ]
     },
     "execution_count": 3,
     "metadata": {},
     "output_type": "execute_result"
    }
   ],
   "source": [
    "listing = [2,2,1,4,7,6,5]\n",
    "\n",
    "simple_sort(listing)"
   ]
  },
  {
   "cell_type": "markdown",
   "id": "4723f0e3",
   "metadata": {},
   "source": [
    "As you can see, the sorting algorithm sorts all the numbers, even though there are repeats.  But how can we be sure that the sorting algorithm will work on a bunch of arrays?  For this we can come up with a test, however, it will require a _reference implementation_ of sorting, that we currently trust.  Fortunately Python comes with a builtin sort:"
   ]
  },
  {
   "cell_type": "code",
   "execution_count": 4,
   "id": "d7b590b8",
   "metadata": {},
   "outputs": [
    {
     "data": {
      "text/plain": [
       "[1, 2, 2, 4, 5, 6, 7]"
      ]
     },
     "execution_count": 4,
     "metadata": {},
     "output_type": "execute_result"
    }
   ],
   "source": [
    "listing = [2,2,1,4,7,6,5]\n",
    "listing.sort()\n",
    "listing"
   ]
  },
  {
   "cell_type": "markdown",
   "id": "cfa96f7e",
   "metadata": {},
   "source": [
    "All that remains now is to devise our test with sequentially increasing and diverse inputs:"
   ]
  },
  {
   "cell_type": "code",
   "execution_count": 5,
   "id": "00b0bdc6",
   "metadata": {},
   "outputs": [],
   "source": [
    "def test_simple_sort_one():\n",
    "    listing = []\n",
    "    for element in range(1000):\n",
    "        listing.insert(0, element)\n",
    "        sorted_list = listing[:]\n",
    "        sorted_list.sort()\n",
    "        assert simple_sort(listing) == sorted_list\n",
    "        \n",
    "def test_simple_sort_two():\n",
    "    listing = []\n",
    "    for element in range(1000):\n",
    "        listing.append(element)\n",
    "        sorted_list = listing[:]\n",
    "        sorted_list.sort()\n",
    "        assert simple_sort(listing) == sorted_list\n",
    "\n",
    "test_simple_sort_one()\n",
    "test_simple_sort_two()"
   ]
  },
  {
   "cell_type": "markdown",
   "id": "000a149f",
   "metadata": {},
   "source": [
    "As you can see, we were able to easily verify _2000_ cases with just a few lines of code!  The above code does take a little while because our simple sort isn't terribly fast.  But we know it's correct!  Now let's look at an example that converts numbers to their binary representation.  \n",
    "\n",
    "In general a binary number can represent _any_ integer and do so in a space efficient manner.  This means that we can _extend_ the limitation of our computational resources however we certainly still have _a limit_, it's just bigger!  Anywho, let's look at Python's implementation first:"
   ]
  },
  {
   "cell_type": "code",
   "execution_count": 6,
   "id": "a40c1144",
   "metadata": {},
   "outputs": [
    {
     "data": {
      "text/plain": [
       "'0b10000'"
      ]
     },
     "execution_count": 6,
     "metadata": {},
     "output_type": "execute_result"
    }
   ],
   "source": [
    "bin(16)"
   ]
  },
  {
   "cell_type": "markdown",
   "id": "6b2cbda2",
   "metadata": {},
   "source": [
    "The leading 0b doesn't have anything to do with the number, it's just there to designate this as a binary number.  Let's look at a second example:"
   ]
  },
  {
   "cell_type": "code",
   "execution_count": 8,
   "id": "b2f81326",
   "metadata": {},
   "outputs": [
    {
     "data": {
      "text/plain": [
       "'0b11'"
      ]
     },
     "execution_count": 8,
     "metadata": {},
     "output_type": "execute_result"
    }
   ],
   "source": [
    "bin(3)"
   ]
  },
  {
   "cell_type": "markdown",
   "id": "dd42b788",
   "metadata": {},
   "source": [
    "What should be clear from these two examples is how binary numbers appear as _even_ or _odd_ numbers.  Any even number will have a `0` in the position furthest to the right, while any odd number will have a `1` there.  That's because $2^{0}=1$.  In general the formula for a binary number is:\n",
    "\n",
    "$$ membership(N) * 2^{N} + membership(N-1) * 2^{N-1} + ... + membership(1)*2^{1} + membership(0) *2^{0} $$\n",
    "\n",
    "The $membership$ function indicates whether or not a given power of two is used in the binary representation.  If it is, then the $membership$ function returns 1, if it's not then the $membership$ function returns 0.  Then all the $membership$ function values are recorded, which is what gives us the binary number. \n",
    "\n",
    "So for the binary representation of the number 3, we first have to bound the number by the largest power of two, in this case it's 4, since 4 > 3.  Then we simply subtract off powers of two until we get to zero:\n",
    "\n",
    "$$0 * 2^{2} + 1 * 2^{1} + 1 * 2^{0}$$\n",
    "\n",
    "Hence our binary representation is, 011.\n",
    "\n",
    "Let's write some code to capture this algorithm:"
   ]
  },
  {
   "cell_type": "code",
   "execution_count": 16,
   "id": "9bcb315e",
   "metadata": {},
   "outputs": [
    {
     "name": "stdout",
     "output_type": "stream",
     "text": [
      "16 10000\n",
      "3 11\n"
     ]
    }
   ],
   "source": [
    "import math\n",
    "\n",
    "def integer_to_binary(number):\n",
    "    biggest_power_of_two = math.log(number, 2)\n",
    "    if biggest_power_of_two == math.ceil(biggest_power_of_two):\n",
    "        upper_bound = int(biggest_power_of_two)\n",
    "    else:\n",
    "        upper_bound = math.floor(biggest_power_of_two)\n",
    "    binary_representation = \"\"\n",
    "    for i in range(upper_bound, -1, -1):\n",
    "        power_of_two = math.pow(2, i)\n",
    "        if power_of_two > number:\n",
    "            binary_representation += \"0\"\n",
    "        else:\n",
    "            binary_representation += \"1\"\n",
    "            number -= power_of_two\n",
    "    return binary_representation\n",
    "\n",
    "print(16, integer_to_binary(16))\n",
    "print(3, integer_to_binary(3))"
   ]
  },
  {
   "cell_type": "markdown",
   "id": "0a1a29a4",
   "metadata": {},
   "source": [
    "Looks pretty good!  But does it hold up to a lot of cases?  Can we establish some level of confidence in our algorithm?\n",
    "\n",
    "Let's write a sequential test to see!"
   ]
  },
  {
   "cell_type": "code",
   "execution_count": 21,
   "id": "da624c33",
   "metadata": {},
   "outputs": [
    {
     "ename": "ValueError",
     "evalue": "math domain error",
     "output_type": "error",
     "traceback": [
      "\u001b[0;31m---------------------------------------------------------------------------\u001b[0m",
      "\u001b[0;31mValueError\u001b[0m                                Traceback (most recent call last)",
      "\u001b[0;32m<ipython-input-21-dd36bfff8999>\u001b[0m in \u001b[0;36m<module>\u001b[0;34m\u001b[0m\n\u001b[1;32m      9\u001b[0m         \u001b[0;32massert\u001b[0m \u001b[0mour_version\u001b[0m \u001b[0;34m==\u001b[0m \u001b[0mpython_version\u001b[0m\u001b[0;34m\u001b[0m\u001b[0;34m\u001b[0m\u001b[0m\n\u001b[1;32m     10\u001b[0m \u001b[0;34m\u001b[0m\u001b[0m\n\u001b[0;32m---> 11\u001b[0;31m \u001b[0mtest_integer_to_binary\u001b[0m\u001b[0;34m(\u001b[0m\u001b[0;34m)\u001b[0m\u001b[0;34m\u001b[0m\u001b[0;34m\u001b[0m\u001b[0m\n\u001b[0m",
      "\u001b[0;32m<ipython-input-21-dd36bfff8999>\u001b[0m in \u001b[0;36mtest_integer_to_binary\u001b[0;34m()\u001b[0m\n\u001b[1;32m      6\u001b[0m         \u001b[0mpython_version\u001b[0m \u001b[0;34m=\u001b[0m \u001b[0mbin\u001b[0m\u001b[0;34m(\u001b[0m\u001b[0mi\u001b[0m\u001b[0;34m)\u001b[0m\u001b[0;34m\u001b[0m\u001b[0;34m\u001b[0m\u001b[0m\n\u001b[1;32m      7\u001b[0m         \u001b[0mpython_version\u001b[0m \u001b[0;34m=\u001b[0m \u001b[0mstrip_leading\u001b[0m\u001b[0;34m(\u001b[0m\u001b[0mpython_version\u001b[0m\u001b[0;34m)\u001b[0m\u001b[0;34m\u001b[0m\u001b[0;34m\u001b[0m\u001b[0m\n\u001b[0;32m----> 8\u001b[0;31m         \u001b[0mour_version\u001b[0m \u001b[0;34m=\u001b[0m \u001b[0minteger_to_binary\u001b[0m\u001b[0;34m(\u001b[0m\u001b[0mi\u001b[0m\u001b[0;34m)\u001b[0m\u001b[0;34m\u001b[0m\u001b[0;34m\u001b[0m\u001b[0m\n\u001b[0m\u001b[1;32m      9\u001b[0m         \u001b[0;32massert\u001b[0m \u001b[0mour_version\u001b[0m \u001b[0;34m==\u001b[0m \u001b[0mpython_version\u001b[0m\u001b[0;34m\u001b[0m\u001b[0;34m\u001b[0m\u001b[0m\n\u001b[1;32m     10\u001b[0m \u001b[0;34m\u001b[0m\u001b[0m\n",
      "\u001b[0;32m<ipython-input-16-c529c6319b11>\u001b[0m in \u001b[0;36minteger_to_binary\u001b[0;34m(number)\u001b[0m\n\u001b[1;32m      2\u001b[0m \u001b[0;34m\u001b[0m\u001b[0m\n\u001b[1;32m      3\u001b[0m \u001b[0;32mdef\u001b[0m \u001b[0minteger_to_binary\u001b[0m\u001b[0;34m(\u001b[0m\u001b[0mnumber\u001b[0m\u001b[0;34m)\u001b[0m\u001b[0;34m:\u001b[0m\u001b[0;34m\u001b[0m\u001b[0;34m\u001b[0m\u001b[0m\n\u001b[0;32m----> 4\u001b[0;31m     \u001b[0mbiggest_power_of_two\u001b[0m \u001b[0;34m=\u001b[0m \u001b[0mmath\u001b[0m\u001b[0;34m.\u001b[0m\u001b[0mlog\u001b[0m\u001b[0;34m(\u001b[0m\u001b[0mnumber\u001b[0m\u001b[0;34m,\u001b[0m \u001b[0;36m2\u001b[0m\u001b[0;34m)\u001b[0m\u001b[0;34m\u001b[0m\u001b[0;34m\u001b[0m\u001b[0m\n\u001b[0m\u001b[1;32m      5\u001b[0m     \u001b[0;32mif\u001b[0m \u001b[0mbiggest_power_of_two\u001b[0m \u001b[0;34m==\u001b[0m \u001b[0mmath\u001b[0m\u001b[0;34m.\u001b[0m\u001b[0mceil\u001b[0m\u001b[0;34m(\u001b[0m\u001b[0mbiggest_power_of_two\u001b[0m\u001b[0;34m)\u001b[0m\u001b[0;34m:\u001b[0m\u001b[0;34m\u001b[0m\u001b[0;34m\u001b[0m\u001b[0m\n\u001b[1;32m      6\u001b[0m         \u001b[0mupper_bound\u001b[0m \u001b[0;34m=\u001b[0m \u001b[0mint\u001b[0m\u001b[0;34m(\u001b[0m\u001b[0mbiggest_power_of_two\u001b[0m\u001b[0;34m)\u001b[0m\u001b[0;34m\u001b[0m\u001b[0;34m\u001b[0m\u001b[0m\n",
      "\u001b[0;31mValueError\u001b[0m: math domain error"
     ]
    }
   ],
   "source": [
    "def strip_leading(string):\n",
    "    return string.replace('0b', '')\n",
    "    \n",
    "def test_integer_to_binary():\n",
    "    for i in range(0, 5000):\n",
    "        python_version = bin(i)\n",
    "        python_version = strip_leading(python_version)\n",
    "        our_version = integer_to_binary(i)\n",
    "        assert our_version == python_version\n",
    "\n",
    "test_integer_to_binary()"
   ]
  },
  {
   "cell_type": "markdown",
   "id": "a36d92a1",
   "metadata": {},
   "source": [
    "So we found an error with our implementation - we can't take the log of 0.  This means our test found an issue we cannot reconcile with our implementation.  However, since 0 in binary is just 0 we can cover this with a special case:"
   ]
  },
  {
   "cell_type": "code",
   "execution_count": 22,
   "id": "84baea48",
   "metadata": {},
   "outputs": [],
   "source": [
    "def integer_to_binary(number):\n",
    "    if number == 0:\n",
    "        return '0'\n",
    "    biggest_power_of_two = math.log(number, 2)\n",
    "    if biggest_power_of_two == math.ceil(biggest_power_of_two):\n",
    "        upper_bound = int(biggest_power_of_two)\n",
    "    else:\n",
    "        upper_bound = math.floor(biggest_power_of_two)\n",
    "    binary_representation = \"\"\n",
    "    for i in range(upper_bound, -1, -1):\n",
    "        power_of_two = math.pow(2, i)\n",
    "        if power_of_two > number:\n",
    "            binary_representation += \"0\"\n",
    "        else:\n",
    "            binary_representation += \"1\"\n",
    "            number -= power_of_two\n",
    "    return binary_representation"
   ]
  },
  {
   "cell_type": "markdown",
   "id": "d07385d3",
   "metadata": {},
   "source": [
    "Now we can rerun our test:"
   ]
  },
  {
   "cell_type": "code",
   "execution_count": 23,
   "id": "3c4c5e95",
   "metadata": {},
   "outputs": [],
   "source": [
    "test_integer_to_binary()"
   ]
  },
  {
   "cell_type": "markdown",
   "id": "f87707e9",
   "metadata": {},
   "source": [
    "And we pass!  Because this runs, at least on the author's machine in under a second, let's try to extend the range a bit!"
   ]
  },
  {
   "cell_type": "code",
   "execution_count": 25,
   "id": "1f19e697",
   "metadata": {},
   "outputs": [],
   "source": [
    "def test_integer_to_binary():\n",
    "    for i in range(0, 500000):\n",
    "        python_version = bin(i)\n",
    "        python_version = strip_leading(python_version)\n",
    "        our_version = integer_to_binary(i)\n",
    "        assert our_version == python_version\n",
    "        \n",
    "test_integer_to_binary()"
   ]
  },
  {
   "cell_type": "markdown",
   "id": "d985e2d6",
   "metadata": {},
   "source": [
    "We still pass!  And rather quickly.  Looks like we've written some rather efficient and correct code!  And we were able to ensure it works for the first 500000 integers!  That's pretty good.  We can now safely use our efficient code freely on _any_ of these cases with confidence.  Which is the power of testing.  Of course, did we _need_ to test every single one of these numbers?  If our algorithm worked on 2500, should we expect it to work on 2501?  \n",
    "\n",
    "In some cases, the answer will be no.  Sometimes checking some _random_ cases is enough, as long as we check enough of them.  For this, we'll need a notion of computational randomness.  And for that we'll need to introduce some basic probability, distributions, and random seeds, otherwise known as initial conditions for generating random numbers."
   ]
  },
  {
   "cell_type": "markdown",
   "id": "1031b0b9",
   "metadata": {},
   "source": [
    "## Introduction To Randomness\n",
    "\n",
    "* probability basics\n",
    "* distributions\n",
    "* random seeds\n",
    "\n",
    "### Probability basics\n",
    "\n",
    "Probability is the study of uncertainty.  Using probability we can answer questions about how likely an event is to occur.  To begin our analysis of probability we will first look at a very important function - the counting function.  This function will allow us to _count the number of elements of a set_.  Let's look at an example:\n",
    "\n",
    "Suppose A = {1,2,3}, then $|A| = 3$, here $|A|$ is the count of the set A.\n",
    "\n",
    "Let's look at some important trivial cases:\n",
    "\n",
    "If A = $\\emptyset$, then $|A| = 0$.\n",
    "\n",
    "If A = $\\mathbb{N}$, then $|A| = \\infty$\n",
    "\n",
    "Now let's look at how the counting function works with respect to our set operators:\n",
    "\n",
    "If A, B are sets, such that $A \\neq \\emptyset$, $B \\neq \\emptyset$, then,\n",
    "\n",
    "$$|(A\\text{ } \\cup \\text{ } B)| = |A| + |B|, such \\text{ } that A \\cap B = \\emptyset$$\n",
    "\n",
    "More generally speaking, there exists a theorem called the partition principal that says:\n",
    "\n",
    "If $A_{1}, A_{2}, .. A_{n}$ are all non-empty non-overlapping subsets of a set C, then,\n",
    "\n",
    "$$ |C| = |A_{1}| + |A_{2}| + ... + |A_{n}| $$\n",
    "\n",
    "Note that, because $A_{i}, A_{j}$ non-overlapping, $A_{i} \\cap A_{j} = \\emptyset$\n",
    "\n",
    "As a corollary, notice that if we have a set A, such that $A \\subseteq C$ and $A \\neq \\emptyset$ then $A, \\bar{A}$ form a natural partition of $C$.  Therefore,\n",
    "\n",
    "$$|C| = |A| + |\\bar{A}|$$\n",
    "\n",
    "Also,\n",
    "\n",
    "$$|C| - |A| = |\\bar{A}|$$\n",
    "\n",
    "Other identities that are presented without proof include:\n",
    "\n",
    "$$|A| = |(A \\cap B)| + |(A \\cap \\bar{B})|$$\n",
    "\n",
    "$$|A| - |(A \\cap B)| = |(A \\cap \\bar{B})|$$\n",
    "\n",
    "Also, it is possible to derive \n",
    "\n",
    "$$ |(A \\cup B)| = |A| + |B| - |(A \\cap B)| $$\n",
    "\n",
    "from the above set of identities.\n",
    "\n",
    "Now that we have some identities that we can make use of, let's begin discussing probability.  \n",
    "\n",
    "The first concept we will need is that of the sample space:\n",
    "\n",
    "Definition - \n",
    "\n",
    "A sample space is the set of all possible outcomes of a random phenomenon.  \n",
    "\n",
    "Examples of random phenomena include:\n",
    "\n",
    "* tossing a coin\n",
    "* rolling a dice\n",
    "* choosing a card from a deck\n",
    "\n",
    "One common theme for all of these examples, we cannot predict with certainty what will happen next, that is, we cannot treat these phenomena like the inputs and outputs of a function, or an algorithm.  But we can assess write down all the things that _might_ happen.\n",
    "\n",
    "For the toss of a coin there are two possible results:\n",
    "\n",
    "* Heads\n",
    "* Tails\n",
    "\n",
    "Therefore our sample space for a single flip is just the set {H, T} (H for heads, T for tails).  \n",
    "\n",
    "For the rolling of a dice the sample space is the numbers = {1,2,3,4,5,6}.\n",
    "\n",
    "And for the choosing of a card, we have 52 possabilities in a standard french deck.\n",
    "\n",
    "In each of these cases, it is possible to write down _all_ of the possible outcomes.\n",
    "\n",
    "We are now ready to begin defining probability:\n",
    "\n",
    "Let S be a sample space and let E be an event, a specific element from element or 'occurrence' from the sample space, then the probability of an event E in S be P(E).  Probabilities of events in a sample space will always be required to obey the following axioms:\n",
    "\n",
    "Axiom 1.  The probability of an event is always a non-negative number, therefore\n",
    "\n",
    "$$ P(E) \\ge 0 $$\n",
    "\n",
    "$\\forall$E in S.\n",
    "\n",
    "Axiom 2. If the sample space is S, then\n",
    "\n",
    "$$ P(S) = 1$$\n",
    "\n",
    "Axiom 3.  If $A_{1}, A_{2}, .. A_{n}$ are all non-empty non-overlapping subsets of a set S, then,\n",
    "\n",
    "$$ P(S) = P(A_{1}) + P(A_{2}) + ... + P(A_{n}) $$\n",
    "\n",
    "Note that, because $A_{i}, A_{j}$ non-overlapping, $A_{i} \\cap A_{j} = \\emptyset$\n",
    "\n",
    "If axiom 3 looks familiar, that's because it should!  It's the same as the identity we learned about earlier, except, instead of a counting function $|*|$, we replaced it with $P()$, the probability function.  \n",
    "\n",
    "Now that we have a notion of a probability function, we can define how to calculate the probability _from_ the counting function.  \n",
    "\n",
    "Let $E$ be an event in a sample space $S$, then\n",
    "\n",
    "$$ P(E) = \\frac{|E|}{|S|} $$\n",
    "\n",
    "Now, let's see how to apply our new formula to the above three examples.  Let's begin with a coin flip -\n",
    "\n",
    "What is the probability of getting heads?\n",
    "\n",
    "Well, it's,\n",
    "\n",
    "$$P(H) = \\frac{|\\{H\\}|}{|\\{H, T\\}|}$$\n",
    "\n",
    "In other words,\n",
    "\n",
    "$$P(H) = \\frac{1}{2}$$\n",
    "\n",
    "Next, let's turn our attention to the probability of rolling two six sided dice and getting a 12.\n",
    "\n",
    "For this, we will need to consider the cartesian product of the two dice to get the full sample space, that is:\n",
    "\n",
    "{1,2,3,4,5,6} x {1,2,3,4,5,6}.\n",
    "\n",
    "We can use Python to get the full size of the sample space:"
   ]
  },
  {
   "cell_type": "code",
   "execution_count": 26,
   "id": "6af231e9",
   "metadata": {},
   "outputs": [],
   "source": [
    "def sample_space_two_dice():\n",
    "    sample_space = []\n",
    "    for i in range(1, 7):\n",
    "        for j in range(1, 7):\n",
    "            sample_space.append((i, j))\n",
    "    return sample_space\n",
    "\n",
    "sample_space = sample_space_two_dice()"
   ]
  },
  {
   "cell_type": "markdown",
   "id": "860f06ed",
   "metadata": {},
   "source": [
    "We can see that the size of the sample space is:"
   ]
  },
  {
   "cell_type": "code",
   "execution_count": 29,
   "id": "8e7608e9",
   "metadata": {
    "scrolled": true
   },
   "outputs": [
    {
     "data": {
      "text/plain": [
       "36"
      ]
     },
     "execution_count": 29,
     "metadata": {},
     "output_type": "execute_result"
    }
   ],
   "source": [
    "len(sample_space)"
   ]
  },
  {
   "cell_type": "markdown",
   "id": "1d2c5d92",
   "metadata": {},
   "source": [
    "Here are a few of the events:"
   ]
  },
  {
   "cell_type": "code",
   "execution_count": 30,
   "id": "21d7a3bd",
   "metadata": {},
   "outputs": [
    {
     "data": {
      "text/plain": [
       "[(1, 1), (1, 2), (1, 3)]"
      ]
     },
     "execution_count": 30,
     "metadata": {},
     "output_type": "execute_result"
    }
   ],
   "source": [
    "sample_space[:3]"
   ]
  },
  {
   "cell_type": "markdown",
   "id": "764b1955",
   "metadata": {},
   "source": [
    "As you can see, we take the first element of our cartesian product from the sample space of the first die and our second from the sample space of the second die.  Finally, our total sample space should look familiar - the number 36 is actually the _product_ of 6 * 6, which is the size of our two sample spaces!\n",
    "\n",
    "This is no accident, in fact, that's part of why a cartesian product is called _a product_.  Because it _is_ a multiplication.\n",
    "\n",
    "In general:\n",
    "\n",
    "if A, B are sets such that $A \\neq \\emptyset$, $B \\neq \\emptyset$, we have\n",
    "\n",
    "$$|A x B| = |A| x |B|$$.\n",
    "\n",
    "Moving on, now that we have the size of the sample space, we simply need the number of occurrences of (6,6):"
   ]
  },
  {
   "cell_type": "code",
   "execution_count": 31,
   "id": "0bc73392",
   "metadata": {},
   "outputs": [
    {
     "data": {
      "text/plain": [
       "1"
      ]
     },
     "execution_count": 31,
     "metadata": {},
     "output_type": "execute_result"
    }
   ],
   "source": [
    "count = 0\n",
    "for event in sample_space:\n",
    "    if event == (6,6):\n",
    "        count += 1\n",
    "        \n",
    "count"
   ]
  },
  {
   "cell_type": "markdown",
   "id": "159c2609",
   "metadata": {},
   "source": [
    "As you can see, the pair (6,6) only occurs once!  So, our probability is:\n",
    "\n",
    "$$ P(\\{(6,6)\\}) = \\frac{1}{36} $$\n",
    "\n",
    "Just to be clear, what would the probability of rolling a 3 and a 4?  Is it still $\\frac{1}{36}$?  We can figure that out by just counting up the occurrences in the sample space:"
   ]
  },
  {
   "cell_type": "code",
   "execution_count": 32,
   "id": "b9eb06ec",
   "metadata": {},
   "outputs": [
    {
     "data": {
      "text/plain": [
       "2"
      ]
     },
     "execution_count": 32,
     "metadata": {},
     "output_type": "execute_result"
    }
   ],
   "source": [
    "count = 0\n",
    "for event in sample_space:\n",
    "    if (event[0] == 3 and event[1] == 4) or (event[0] == 4 and event[1] == 3):\n",
    "        count += 1\n",
    "count"
   ]
  },
  {
   "cell_type": "markdown",
   "id": "65b6843c",
   "metadata": {},
   "source": [
    "Therefore our probability is $\\frac{2}{36}$"
   ]
  },
  {
   "cell_type": "markdown",
   "id": "8f8b354d",
   "metadata": {},
   "source": [
    "Notice, the reason we have to count (3,4) and (4,3) is because we _never_ specified what order the dice had to appear in.  Nor is there any notion of the dice being rolled sequentially.  Typically, when rolling dice, you do it together or _simultaneously_.  Therefore there is no notion of event ordering, and thus you must account for both cases.\n",
    "\n",
    "Finally, we can also figure out the probability of rolling a total score of 5 between the two dice:"
   ]
  },
  {
   "cell_type": "code",
   "execution_count": 35,
   "id": "6fe7c259",
   "metadata": {},
   "outputs": [
    {
     "data": {
      "text/plain": [
       "4"
      ]
     },
     "execution_count": 35,
     "metadata": {},
     "output_type": "execute_result"
    }
   ],
   "source": [
    "count = 0\n",
    "for event in sample_space:\n",
    "    if sum(event) == 5:\n",
    "        count += 1\n",
    "count"
   ]
  },
  {
   "cell_type": "markdown",
   "id": "12eaa529",
   "metadata": {},
   "source": [
    "Here our probability is $\\frac{4}{36}$"
   ]
  },
  {
   "cell_type": "markdown",
   "id": "9c3a064c",
   "metadata": {},
   "source": [
    "Next let's look at another classic problem in probability -\n",
    "\n",
    "Suppose you had 5 letters - a,b,c,d,e.  Using these letters, how could you come up with all the possible 3 letter strings?  \n",
    "\n",
    "We could solve this with looping:"
   ]
  },
  {
   "cell_type": "code",
   "execution_count": 48,
   "id": "ff14956d",
   "metadata": {},
   "outputs": [],
   "source": [
    "def possible_strings():\n",
    "    letters = [\"a\", \"b\", \"c\", \"d\", \"e\"]\n",
    "    permutations = []\n",
    "    for one in letters:\n",
    "        for two in letters:\n",
    "            for three in letters:\n",
    "                if one == two:\n",
    "                    continue\n",
    "                if one == three:\n",
    "                    continue\n",
    "                if two == three:\n",
    "                    continue\n",
    "                permutations.append((one, two, three))\n",
    "    return permutations\n",
    "\n",
    "strings = possible_strings()"
   ]
  },
  {
   "cell_type": "markdown",
   "id": "ac79ae59",
   "metadata": {},
   "source": [
    "Notice that with a permutation once we select an element to be a member of our string, we cannot select it again.  That's why we need the continue statements above.  In general, this is called sampling without replacement.  We can think of our small set of letters sort of like a sample space or bag.  And once we pull an element out of our bag, we do not put it back in our bag.  Or in other words, we don't _replace it_ in our bag of possible letters.\n",
    "\n",
    "Let's look at a subset of these:"
   ]
  },
  {
   "cell_type": "code",
   "execution_count": 49,
   "id": "73d12f6c",
   "metadata": {},
   "outputs": [
    {
     "data": {
      "text/plain": [
       "[('a', 'b', 'c'), ('a', 'b', 'd'), ('a', 'b', 'e')]"
      ]
     },
     "execution_count": 49,
     "metadata": {},
     "output_type": "execute_result"
    }
   ],
   "source": [
    "strings[:3]"
   ]
  },
  {
   "cell_type": "markdown",
   "id": "bd25b31d",
   "metadata": {},
   "source": [
    "Seems reasonable enough.  How big is the sample space?"
   ]
  },
  {
   "cell_type": "code",
   "execution_count": 50,
   "id": "8f589b51",
   "metadata": {},
   "outputs": [
    {
     "data": {
      "text/plain": [
       "60"
      ]
     },
     "execution_count": 50,
     "metadata": {},
     "output_type": "execute_result"
    }
   ],
   "source": [
    "len(strings)"
   ]
  },
  {
   "cell_type": "markdown",
   "id": "6b1075c9",
   "metadata": {},
   "source": [
    "Woah!  That's a lot of possible events.  If we want to calculate this for any reasonable event spaces, it would be helpful to have a short hand.  For starters, a tripple for-loop isn't exactly performant.  And as the size of the strings increases, this will get _even_ worse.  If we wanted all the 5 letter strings we would need 5 for loops!  For every new element in the string, we need a new _nested_ for loop.  And that adds up very quick."
   ]
  },
  {
   "cell_type": "markdown",
   "id": "465e6d36",
   "metadata": {},
   "source": [
    "So our sample space grows _fast_ with the length of the string.  _Not great_.\n",
    "\n",
    "In order to deal with this, we'll make use of a formula for calculating permutations, for this, we'll need to introduce the factorial, which we can calculate generally using recursion or dynamic programming.  Because we plan on formally introducing recursion later on, we'll use the dynamic programming version, which doesn't any new concepts, but uses things we already know in a _clever_ and somewhat confusing fashion.  We will also provide a formal introduction to dynamic programming in a later chapter.  But for now, let's just view the code for calculating a factorial:"
   ]
  },
  {
   "cell_type": "code",
   "execution_count": 51,
   "id": "5a101e98",
   "metadata": {},
   "outputs": [
    {
     "data": {
      "text/plain": [
       "3628800"
      ]
     },
     "execution_count": 51,
     "metadata": {},
     "output_type": "execute_result"
    }
   ],
   "source": [
    "def factorial(n):\n",
    "    listing = [1]\n",
    "    for i in range(1, n+1):\n",
    "        listing.append(i * listing[i-1])\n",
    "    return listing[n]\n",
    "\n",
    "factorial(10)"
   ]
  },
  {
   "cell_type": "markdown",
   "id": "09409481",
   "metadata": {},
   "source": [
    "In general, the formula for n factorial, usually denoted by $n!$ is,\n",
    "\n",
    "$$n! = 1 * 2 * 3 * 4 *\\text{ } ...\\text{ } * n$$\n",
    "\n",
    "We can use the factorial to define the permutation without having to do _n-many_ for loops:\n",
    "\n",
    "$$p(n, r) = \\frac{n!}{(n - r)!}$$\n",
    "\n",
    "Here n is the number of elements to choose from and r is the number of spaces available.  So for a string with 5 possible choices for each place and 3 possible places we get:"
   ]
  },
  {
   "cell_type": "code",
   "execution_count": 52,
   "id": "7c41be5d",
   "metadata": {},
   "outputs": [
    {
     "data": {
      "text/plain": [
       "60.0"
      ]
     },
     "execution_count": 52,
     "metadata": {},
     "output_type": "execute_result"
    }
   ],
   "source": [
    "def permutation(n, r):\n",
    "    return factorial(n)/factorial(n - r)\n",
    "\n",
    "permutation(5, 3)"
   ]
  },
  {
   "cell_type": "markdown",
   "id": "5ba86762",
   "metadata": {},
   "source": [
    "Now that we've seen how to easily calculate the sample space for a permutation, or sampling without replacement, what if we were allowed to replace our elements?  Then we'd be in the above case dealing with cartesian products, and our sample space would be\n",
    "\n",
    "$$n^{r}$$\n",
    "\n",
    "That is,\n",
    "\n",
    "$$\\{the\\text{ }number\\text{ }of\\text{ }possible\\text{ }elements\\}^{ \\{the\\text{ }size\\text{ }of\\text{ }the\\text{ }string\\} }$$\n",
    "\n",
    "The final formula we will look at in this section to get a sample space is to look at combinations.  Combinations are particularly useful when dealing with defining probabilities with things like cards.  For instance, what's the probability of sel"
   ]
  },
  {
   "cell_type": "markdown",
   "id": "cd982c34",
   "metadata": {},
   "source": []
  },
  {
   "cell_type": "markdown",
   "id": "95ca3966",
   "metadata": {},
   "source": [
    "## Random Testing\n"
   ]
  },
  {
   "cell_type": "markdown",
   "id": "b2c4cf3f",
   "metadata": {},
   "source": [
    "Note: This section takes part of it's inspiration from \"Introduction to Probability\" by Nelson Markley."
   ]
  },
  {
   "cell_type": "code",
   "execution_count": null,
   "id": "64c77e23",
   "metadata": {},
   "outputs": [],
   "source": []
  }
 ],
 "metadata": {
  "kernelspec": {
   "display_name": "Python 3",
   "language": "python",
   "name": "python3"
  },
  "language_info": {
   "codemirror_mode": {
    "name": "ipython",
    "version": 3
   },
   "file_extension": ".py",
   "mimetype": "text/x-python",
   "name": "python",
   "nbconvert_exporter": "python",
   "pygments_lexer": "ipython3",
   "version": "3.9.5"
  }
 },
 "nbformat": 4,
 "nbformat_minor": 5
}
