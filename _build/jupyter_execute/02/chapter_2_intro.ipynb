{
 "cells": [
  {
   "cell_type": "markdown",
   "id": "740ec4d0",
   "metadata": {},
   "source": [
    "# Chapter 2\n",
    "\n",
    "In this chapter we will be looking at sorting algorithms in detail.  Throughout the chapter we will analyze the algorithms in question using the techniques presented in chapter 1.\n",
    "\n",
    "The following topics will be covered:\n",
    "\n",
    "* simple sort\n",
    "* insertion sort\n",
    "* selection sort\n",
    "* recursion\n",
    "    * mathematical induction as a programming paradigm\n",
    "    * fibonacci numbers\n",
    "    * factorial\n",
    "    * binary search\n",
    "* analysis of recursive algorithms\n",
    "    * substitution method\n",
    "    * recursion tree\n",
    "    * master method\n",
    "* recursive sorting algorithms\n",
    "    * merge sort\n",
    "    * quick sort\n",
    "    * randomized quick sort\n",
    "    * merge selection sort\n",
    "* linear sorting\n",
    "* selection\n",
    "* sorting with selection\n",
    "* advanced recursive algorithms\n",
    "    * matrices\n",
    "    \n",
    "Notice that a few non-sorting algorithms will be presented.  That is merely to aid in our discussion of the necessary material and provide a pallete cleanser so that the reader can see other instances of recursive algorithms.\n",
    "\n",
    "Of great importance will be the analysis of recursive algorithms which cannot be approached using the techniques we have covered thus far.  For this, we will need an entirely new set of analysis tools when considering algorithms."
   ]
  },
  {
   "cell_type": "code",
   "execution_count": null,
   "id": "a5625b59",
   "metadata": {},
   "outputs": [],
   "source": []
  }
 ],
 "metadata": {
  "kernelspec": {
   "display_name": "Python 3",
   "language": "python",
   "name": "python3"
  },
  "language_info": {
   "codemirror_mode": {
    "name": "ipython",
    "version": 3
   },
   "file_extension": ".py",
   "mimetype": "text/x-python",
   "name": "python",
   "nbconvert_exporter": "python",
   "pygments_lexer": "ipython3",
   "version": "3.9.5"
  }
 },
 "nbformat": 4,
 "nbformat_minor": 5
}