{
 "cells": [
  {
   "cell_type": "markdown",
   "id": "d7b32d0e",
   "metadata": {},
   "source": [
    "# Algorithms Foundations\n",
    "\n",
    "The study of algorithms is a worth while one.  However, I feel it has fallen out of favor, except to pass an interview at this point.  Certainly some academics and a few working professionals take the study seriously, but by and large, the study of algorithms is all but profunctory these days, just to get a job.\n",
    "\n",
    "I find this to be the greatest tragedy within computer science, because algorithms is a potentially rich ground for theorists and practioners alike.  The goal of a foundational course in algorithms, ought to be to teach the stuff, instead of showing how clever the author can be.  It is this fundamental issue that I believe to be at the root of algorithm pedagogy and it's general failing.  Therefore, I believe this text to be necessary.  In this book, I will not show you how to be clever, I will show you to be simple and clear.  Each chapter contains the necessary material to do the exercises.  And examples of how to do each exercise are provided in the text.  \n",
    "\n",
    "You shouldn't have to figure out how to do fundamental things yourself.  This is the central ethos and tenent of this book.  Forcing someone to be clever before you show them the basics is the definition of setting them up for failure, or worse yet, setting them up to cheat.  \n",
    "\n",
    "## What You Need To Know To Study Algorithms\n",
    "\n",
    "The field of algorithms requires the following skills:\n",
    "\n",
    "* Being able to write mathematical proofs\n",
    "* Being able to write code\n",
    "\n",
    "Typically mathematical skill and rigour is missing from a book on algorithms, so we will cover a number of foundational proving techniques.  Additionally, the study of algorithms, is typically taught in the context of computer code.  \n",
    "\n",
    "In this book you will learn both of these skills upfront.  It is assumed that you have some programming experience already, but may not know Python, which will be the programming tool used to teach this book.  Additionally, it is not assumed that you know how to prove things, but that you have a level of mathematical maturity, coming into the text.  If you haven't taken college level mathematics courses already, the mathematical proofs may be too challenging for most students.  I recommend going through differential and integral calculus, a course in linear algebra, and a course in differential equations before attempting to learn proofs. "
   ]
  },
  {
   "cell_type": "code",
   "execution_count": null,
   "id": "eac84002",
   "metadata": {},
   "outputs": [],
   "source": []
  }
 ],
 "metadata": {
  "kernelspec": {
   "display_name": "Python 3",
   "language": "python",
   "name": "python3"
  },
  "language_info": {
   "codemirror_mode": {
    "name": "ipython",
    "version": 3
   },
   "file_extension": ".py",
   "mimetype": "text/x-python",
   "name": "python",
   "nbconvert_exporter": "python",
   "pygments_lexer": "ipython3",
   "version": "3.9.5"
  }
 },
 "nbformat": 4,
 "nbformat_minor": 5
}
