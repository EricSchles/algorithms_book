{
 "cells": [
  {
   "cell_type": "markdown",
   "id": "df558071",
   "metadata": {},
   "source": [
    "# Types\n",
    "\n",
    "Throughout this chapter we've talked about types.  Here we will remind the reader of their significance and importance.\n",
    "\n",
    "Let us begin by looking at types in Python.  Recall we have the following primitive types:\n",
    "\n",
    "* integers\n",
    "* floats\n",
    "* booleans\n",
    "* strings\n",
    "\n",
    "Examples:"
   ]
  },
  {
   "cell_type": "code",
   "execution_count": 1,
   "id": "8c551754",
   "metadata": {},
   "outputs": [
    {
     "name": "stdout",
     "output_type": "stream",
     "text": [
      "5\n",
      "5.8172\n",
      "True\n",
      "This is a string\n"
     ]
    }
   ],
   "source": [
    "print(5)\n",
    "print(5.8172)\n",
    "print(True)\n",
    "print(\"This is a string\")"
   ]
  },
  {
   "cell_type": "markdown",
   "id": "5a02f2a3",
   "metadata": {},
   "source": [
    "Each of these 'types' of data represent subsets of a set of numbers called the computables.  The computable numbers are those that can be stores or represented in a finite way.  All of them map to an internal binary representation.  As we saw in the last section, here is an algorithm to map from integer to binary:"
   ]
  },
  {
   "cell_type": "code",
   "execution_count": 2,
   "id": "3ecd0be8",
   "metadata": {},
   "outputs": [
    {
     "name": "stdout",
     "output_type": "stream",
     "text": [
      "16 10000\n",
      "3 11\n"
     ]
    }
   ],
   "source": [
    "import math\n",
    "\n",
    "def integer_to_binary(number):\n",
    "    biggest_power_of_two = math.log(number, 2)\n",
    "    if biggest_power_of_two == math.ceil(biggest_power_of_two):\n",
    "        upper_bound = int(biggest_power_of_two)\n",
    "    else:\n",
    "        upper_bound = math.floor(biggest_power_of_two)\n",
    "    binary_representation = \"\"\n",
    "    for i in range(upper_bound, -1, -1):\n",
    "        power_of_two = math.pow(2, i)\n",
    "        if power_of_two > number:\n",
    "            binary_representation += \"0\"\n",
    "        else:\n",
    "            binary_representation += \"1\"\n",
    "            number -= power_of_two\n",
    "    return binary_representation\n",
    "\n",
    "print(16, integer_to_binary(16))\n",
    "print(3, integer_to_binary(3))"
   ]
  },
  {
   "cell_type": "markdown",
   "id": "6f29b6ce",
   "metadata": {},
   "source": [
    "If we are interested in mapping from boolean to binary, the algorithm is trivial:\n",
    "\n",
    "True -> 1\n",
    "False -> 0\n",
    "\n",
    "Thus we can implement the boolean_to_binary function as:"
   ]
  },
  {
   "cell_type": "code",
   "execution_count": 3,
   "id": "1c60604e",
   "metadata": {},
   "outputs": [
    {
     "name": "stdout",
     "output_type": "stream",
     "text": [
      "True: 1\n",
      "False: 0\n"
     ]
    }
   ],
   "source": [
    "def boolean_to_binary(boolean: bool) -> str:\n",
    "    return str(int(boolean))\n",
    "\n",
    "print(\"True:\", boolean_to_binary(True))\n",
    "print(\"False:\", boolean_to_binary(False))"
   ]
  },
  {
   "cell_type": "markdown",
   "id": "a42364d9",
   "metadata": {},
   "source": [
    "Floating point can be represented as binary using the same algorithm as we did for the integers, just with a '.' representing before and after the decimal point.  Therefore we do the following:"
   ]
  },
  {
   "cell_type": "code",
   "execution_count": 5,
   "id": "a0678e3c",
   "metadata": {},
   "outputs": [
    {
     "data": {
      "text/plain": [
       "'101.1101001110'"
      ]
     },
     "execution_count": 5,
     "metadata": {},
     "output_type": "execute_result"
    }
   ],
   "source": [
    "def float_to_binary(number: float) -> str:\n",
    "    str_repr = str(number)\n",
    "    left_hand_side, right_hand_side = str_repr.split(\".\")\n",
    "    left_hand_side, right_hand_side = int(left_hand_side), int(right_hand_side)\n",
    "    left_hand_side = integer_to_binary(left_hand_side)\n",
    "    right_hand_side = integer_to_binary(right_hand_side)\n",
    "    return \".\".join([left_hand_side, right_hand_side])\n",
    "\n",
    "float_to_binary(5.846)"
   ]
  },
  {
   "cell_type": "markdown",
   "id": "8a0ffac0",
   "metadata": {},
   "source": [
    "Note: Because floating point numbers, all numbers are already computable, so we need not worry about infinite real numbers.  Recall that floating point numbers can approximate the irrationals and the transcendental numbers, but cannot represent them with absolute precision.\n",
    "\n",
    "The final binary representation we need to consider is string to binary.  For this, we simply need to consider, what makes up a string?  It is an array of characters.  And each character comes with a mapping to an integer.  In Python the way we do this is with the `ord` function:"
   ]
  },
  {
   "cell_type": "code",
   "execution_count": 6,
   "id": "87496140",
   "metadata": {},
   "outputs": [
    {
     "data": {
      "text/plain": [
       "97"
      ]
     },
     "execution_count": 6,
     "metadata": {},
     "output_type": "execute_result"
    }
   ],
   "source": [
    "ord(\"a\")"
   ]
  },
  {
   "cell_type": "markdown",
   "id": "8b0037b9",
   "metadata": {},
   "source": [
    "From there, we simply map the integer representation of the character to the binary representation.  Thus to map a string to binary we do:"
   ]
  },
  {
   "cell_type": "code",
   "execution_count": 7,
   "id": "c773b9ab",
   "metadata": {},
   "outputs": [
    {
     "data": {
      "text/plain": [
       "['1001000',\n",
       " '1100101',\n",
       " '1101100',\n",
       " '1101100',\n",
       " '1101111',\n",
       " '100000',\n",
       " '1010111',\n",
       " '1101111',\n",
       " '1110010',\n",
       " '1101100',\n",
       " '1100100',\n",
       " '100001']"
      ]
     },
     "execution_count": 7,
     "metadata": {},
     "output_type": "execute_result"
    }
   ],
   "source": [
    "def string_to_binary(string: str) -> str:\n",
    "    binary = []\n",
    "    for elem in string:\n",
    "        binary.append(integer_to_binary(ord(elem)))\n",
    "    return binary\n",
    "\n",
    "string_to_binary(\"Hello World!\")"
   ]
  },
  {
   "cell_type": "markdown",
   "id": "b7d5762a",
   "metadata": {},
   "source": [
    "Notice we need to store each character as elements of an array otherwise it will be impossible to recover which part of the binary maps to which character.  \n",
    "\n",
    "Each of the above functions drives towards a point - all the 'primitive' types in programming actually have a bijection to the binary numbers.  Therefore in a sense, the types we've seen so far implemented in a programming language actually comprise just one type, the computables.  The way the computables are used indicates we are attempting an _approximation_ at a much richer space of types, the mathematical types.  However, since this is only an approximation, it fails in ways that may be unpredictable in real applications.  And we are limited in what we can approximate by the specific hardware and software available to us as scientists.  \n",
    "\n",
    "Fortunately, the human mind has no such limitation.  We are able to see passed the finite and consider the infinite.  As stated in previous sections, there are problems that machines simply cannot solve, because they can only approximate the infinite.  Here we introduce a rich set of infinite types which will aid us in coming up with algorithms which we will use to approximate results through the computables.  These types will be:\n",
    "\n",
    "* The natural numbers $\\mathbb{N}$\n",
    "\n",
    "The natural numbers can be thought of as the counting numbers, starting at 0 and heading to infinity one at a time.  So the sequence starts off as:\n",
    "\n",
    "0, 1, 2, 3, ...\n",
    "\n",
    "* The integers $\\mathbb{Z}$\n",
    "\n",
    "The integers are the counting numbers, plus their negative equivalents in terms of order of magnitude, heading both to positive and negative infinity one at a time.  So the sequence centered at zero looks like:\n",
    "\n",
    "..., -3, -2, -1, 0, 1, 2, 3, ....\n",
    "\n",
    "* The rational numbers $\\mathbb{Q}$\n",
    "\n",
    "The rational numbers are ratios of integers in lowest terms.  So all the integers are a subset of the rationals if you consider the rational equivalent to be an integer over one like:\n",
    "\n",
    "$$\\frac{5}{1}$$\n",
    "\n",
    "Of course, not all rational numbers are of this form, for instance:\n",
    "\n",
    "$$\\frac{3}{4}$$\n",
    "\n",
    "Is a perfectly reasonable rational number, but has no integer equivalence.  In this sense, the rationals represent a 'larger' infinity because there are an infinite number of rational numbers between each integer.  \n",
    "\n",
    "* The irrational numbers $\\mathbb{I}$\n",
    "\n",
    "Just as there are rational numbers that cannot be represented as integers, there are numbers that cannot be expressed as ratios in lowest terms, and yet they are numbers.  An example of this is $\\sqrt{2}$.  While clearly a number, and one that comes up _often_.  It is not rational.  We will see a proof of this fact later on in the chapter and prove it's generalization.\n",
    "\n",
    "* The real numbers $\\mathbb{R}$\n",
    "\n",
    "Finally, we have the real numbers which includes the integers, rationals, irrationals and a set called the transcendental numbers.  Those are numbers that we cannot even approximate with finite representations of numbers.  For instance, $\\sqrt{2}$ is irrational, so we cannot write down an 'exact' numeric representation, but we can at least write down $\\sqrt{2}$.  But with the transcendentals, like $\\pi$ or $e$ we cannot even do that.  There are formulas that approximate both and they do so very, very well.  If you are interested in understanding that approximation deeper, please check out [veritasium video](https://www.youtube.com/watch?v=gMlf1ELvRzc&ab_channel=Veritasium).\n",
    "\n",
    "There are some other notable sets that we likely won't have time to discuss:\n",
    "\n",
    "* The complex numbers $\\mathbb{C}$\n",
    "\n",
    "Here is [the wikipedia for the complex numbers](https://en.wikipedia.org/wiki/Complex_number)\n",
    "\n",
    "* The Quaternion numbers $\\mathbb{H}$\n",
    "\n",
    "And [the wikipedia for the Quaternions](https://en.wikipedia.org/wiki/Quaternion)\n",
    "\n",
    "For the remainder of this chapter we introduce a set of proofs and proof techniques for dealing with each of these types.  These proofs will not be an exhaustive set of proofs, but give a rough sense of the flavor of proofs in each type.\n",
    "\n",
    "The reason we can categorize proofs by types is the structural nature of the proofs are based on facts we know about the type in question.  This leads to a standard structure for each proof, based on type, dependent on the property or statement of inquiry.  So for instance, if we want to prove a property of the integers, like that two even integers always produce a third even integer, then we can decompose the proof into the following meta elements:\n",
    "\n",
    "* type: integers\n",
    "* generic class: equivalence class closure\n",
    "\n",
    "This allows us to observe the pattern for how to not only prove the statement, but also _similar_ statements.\n",
    "\n",
    "## Proofs in the Integers\n",
    "\n",
    "We begin by showing the above example and then generalize to other similar statements:\n",
    "\n",
    "Result:\n",
    "\n",
    "let $\\forall$ a, b $\\in \\mathbb{Z}$ if a,b even then a+b=c such that c $\\in \\mathbb{Z}$ and c is even.\n",
    "\n",
    "In order to prove this we'll need a lemma:\n",
    "\n",
    "Lemma:\n",
    "\n",
    "$\\forall$ a,b $\\in \\mathbb{Z}$, a+b=c such that c $\\in \\mathbb{Z}$.\n",
    "\n",
    "Proof:\n",
    "\n",
    "We will prove the above result with a proof by contradiction.  Thus we begin by assuming a+b=c and c $\\notin \\mathbb{Z}$.\n",
    "\n",
    "If this is the case then, a + b = c $\\iff$ b = c - a.  But since c $\\notin \\mathbb{Z}$ this must mean b $\\notin \\mathbb{Z}$, which is a contradiction.  Therefore c $\\in \\mathbb{Z}$.\n",
    "\n",
    "Q.E.D.\n",
    "\n",
    "Proof:\n",
    "\n",
    "Recall the definition of an even integer x, x = 2k, for k $\\in \\mathbb{Z}$.\n",
    "\n",
    "Thus we can directly apply the definition:\n",
    "\n",
    "a = 2j for j $\\in \\mathbb{Z}$.\n",
    "b = 2i for i $\\in \\mathbb{Z}$.\n",
    "\n",
    "And a + b = 2j + 2i = 2(j + i).\n",
    "\n",
    "Since j, i $\\in \\mathbb{Z}$, j + i $\\in \\mathbb{Z}$ by lemma and we can call the summation, j+i=k.  Thus,\n",
    "\n",
    "a + b = 2j + 2i = 2k such that $\\in \\mathbb{Z}$ and the summation is even by definition of an even integer.\n",
    "\n",
    "Q.E.D.\n",
    "\n",
    "Let's look at another similar result, \n",
    "\n",
    "Result:\n",
    "\n",
    "let $\\forall$ a, b $\\in \\mathbb{Z}$ if a,b odd then a+b=c such that c $\\in \\mathbb{Z}$ and c is even.\n",
    "\n",
    "Proof:\n",
    "\n",
    "Recall the definition of an odd integer x, x = 2k + 1, for k $\\in \\mathbb{Z}$.\n",
    "\n",
    "Thus we can directly apply the definition:\n",
    "\n",
    "a = 2j + 1 for j $\\in \\mathbb{Z}$.\n",
    "b = 2i + 1 for i $\\in \\mathbb{Z}$.\n",
    "\n",
    "And a + b = 2j + 1 + 2i + 1 = 2(j + i + 1).\n",
    "\n",
    "Since j, i $\\in \\mathbb{Z}$, j + i $\\in \\mathbb{Z}$ by lemma and we can call the summation, j+i+1=k.  Thus,\n",
    "\n",
    "a + b = 2j + 2i + 2= 2k such that $\\in \\mathbb{Z}$ and the summation is even by definition of an even integer.\n",
    "\n",
    "Q.E.D.\n",
    "\n",
    "Notice - that the proof and structure were essentially identical.  Any proof involving parity, or the generalization equivalence classes, will look very similar.  Thus we have identified the necessary _structure_ of the result to prove a large set of results.  In theory this set of results is _infinite_, since now we can answer questions about any multiplicative factor of an even or odd number plus any multiplicative factor of an even or odd number.  To be clear, the 'class' of results is very limited.  But within that class we can verify any statement.  \n",
    "\n",
    "It is left to the reader to verify some other statements within this generic class of results regarding even and odd numbers.\n",
    "\n",
    "Now that we've informally mentioned equivalence classes.  Let's discuss them formally.\n",
    "\n",
    "### Towards Equivalence Classes\n",
    "\n",
    "Recall from Introduction_To_Proofs the term relation - \n",
    "\n",
    "A relation is a set R from A to B, such that $R:A \\rightarrow B$.  Recall that relations are mappings from A to B, but don't require much else.  There are some extra properties that relations can have:\n",
    "\n",
    "* reflexive:\n",
    "\n",
    "let x $\\in$ A, then for $R: A \\rightarrow A$, x R x $\\forall x \\in A$\n",
    "\n",
    "* symmetric:\n",
    "\n",
    "let x,y $\\in$ A, for $R: A \\rightarrow A$, if x R y then y R x,  $\\forall x,y \\in A$\n",
    "\n",
    "* transitive:\n",
    "\n",
    "let x,y,z $\\in$ A, for $R: A \\rightarrow A$, if x R y and y R z, then x R z $\\forall x,y,z \\in A$\n",
    "\n",
    "Definition:\n",
    "\n",
    "An **equivalence relation** is a relation that is reflexive, symmetric and transitive.\n",
    "\n",
    "### Equivalence Classes\n",
    "\n",
    "We are now ready to begin discussing equivalence with respect to relations.\n",
    "\n",
    "Definition:\n",
    "\n",
    "For an equivalence relation R defined on a set A for a $\\in$ A, the set\n",
    "\n",
    "$$[a] = \\{x \\in A: x R a\\}$$\n",
    "\n",
    "then $[a]$ is an **equivalence class**.\n",
    "\n",
    "Thus, we can represent a subset of a set by it's equivalence under some equivalence relation.\n",
    "\n",
    "In order to provide examples of equivalence classes, we'll need to define integer division:\n",
    "\n",
    "a | b (read a divides b) if and only if b = ac.\n",
    "\n",
    "We can define integer division in Python fairly easily:"
   ]
  },
  {
   "cell_type": "code",
   "execution_count": 16,
   "id": "5295f9bc",
   "metadata": {},
   "outputs": [
    {
     "data": {
      "text/plain": [
       "2"
      ]
     },
     "execution_count": 16,
     "metadata": {},
     "output_type": "execute_result"
    }
   ],
   "source": [
    "def int_divide(a, b):\n",
    "    count = 0\n",
    "    original_b = b\n",
    "    while b > 1:\n",
    "        b -= a\n",
    "        count += 1\n",
    "    assert b == 0, Exception(f\"{a} does not evenly divide {original_b}\")\n",
    "    return count\n",
    "\n",
    "int_divide(3, 6)"
   ]
  },
  {
   "cell_type": "markdown",
   "id": "1100be19",
   "metadata": {},
   "source": [
    "Notice - we only consider integer solutions in this case.  So if we did:"
   ]
  },
  {
   "cell_type": "code",
   "execution_count": 17,
   "id": "d14d0efa",
   "metadata": {},
   "outputs": [
    {
     "ename": "AssertionError",
     "evalue": "3 does not evenly divide 7",
     "output_type": "error",
     "traceback": [
      "\u001b[0;31m---------------------------------------------------------------------------\u001b[0m",
      "\u001b[0;31mAssertionError\u001b[0m                            Traceback (most recent call last)",
      "\u001b[0;32m<ipython-input-17-786f44eed5af>\u001b[0m in \u001b[0;36m<module>\u001b[0;34m\u001b[0m\n\u001b[0;32m----> 1\u001b[0;31m \u001b[0mint_divide\u001b[0m\u001b[0;34m(\u001b[0m\u001b[0;36m3\u001b[0m\u001b[0;34m,\u001b[0m \u001b[0;36m7\u001b[0m\u001b[0;34m)\u001b[0m\u001b[0;34m\u001b[0m\u001b[0;34m\u001b[0m\u001b[0m\n\u001b[0m",
      "\u001b[0;32m<ipython-input-16-a925b2fc7fc2>\u001b[0m in \u001b[0;36mint_divide\u001b[0;34m(a, b)\u001b[0m\n\u001b[1;32m      5\u001b[0m         \u001b[0mb\u001b[0m \u001b[0;34m-=\u001b[0m \u001b[0ma\u001b[0m\u001b[0;34m\u001b[0m\u001b[0;34m\u001b[0m\u001b[0m\n\u001b[1;32m      6\u001b[0m         \u001b[0mcount\u001b[0m \u001b[0;34m+=\u001b[0m \u001b[0;36m1\u001b[0m\u001b[0;34m\u001b[0m\u001b[0;34m\u001b[0m\u001b[0m\n\u001b[0;32m----> 7\u001b[0;31m     \u001b[0;32massert\u001b[0m \u001b[0mb\u001b[0m \u001b[0;34m==\u001b[0m \u001b[0;36m0\u001b[0m\u001b[0;34m,\u001b[0m \u001b[0mException\u001b[0m\u001b[0;34m(\u001b[0m\u001b[0;34mf\"{a} does not evenly divide {original_b}\"\u001b[0m\u001b[0;34m)\u001b[0m\u001b[0;34m\u001b[0m\u001b[0;34m\u001b[0m\u001b[0m\n\u001b[0m\u001b[1;32m      8\u001b[0m     \u001b[0;32mreturn\u001b[0m \u001b[0mcount\u001b[0m\u001b[0;34m\u001b[0m\u001b[0;34m\u001b[0m\u001b[0m\n\u001b[1;32m      9\u001b[0m \u001b[0;34m\u001b[0m\u001b[0m\n",
      "\u001b[0;31mAssertionError\u001b[0m: 3 does not evenly divide 7"
     ]
    }
   ],
   "source": [
    "int_divide(3, 7)"
   ]
  },
  {
   "cell_type": "markdown",
   "id": "c020a301",
   "metadata": {},
   "source": [
    "Which would be the 'wrong' answer for the real numbers, but is correct because we limit ourselves to integer solutions only.  Specifically, there is no c, such that b = ac when b = 7 and a = 3.\n",
    "\n",
    "Next let's look at a related construct to division, modulo.  We'll use modulo to construct a naive notion of equivalence.\n",
    "\n",
    "Definition:\n",
    "\n",
    "For integers a,b with n $\\ge$ 2, we say that a is equivalent to b modulo n, written $a = b (mod n)$ if $n | (a - b)$.\n",
    "\n",
    "So for instance, \n",
    "\n",
    "8 = 4 (mod 2) because\n",
    "\n",
    "$2 | (8 - 4)$, namely, \n",
    "\n",
    "$8 - 4 = 4$ and $2 | 4$ because $2*2 = 4$.\n",
    "\n",
    "In Python it is easy to check if two numbers are equivalent modulo some other number:"
   ]
  },
  {
   "cell_type": "code",
   "execution_count": 18,
   "id": "ff0a82c3",
   "metadata": {},
   "outputs": [
    {
     "data": {
      "text/plain": [
       "True"
      ]
     },
     "execution_count": 18,
     "metadata": {},
     "output_type": "execute_result"
    }
   ],
   "source": [
    "def int_equivalence(a, b, n):\n",
    "    return a % n == b % n\n",
    "\n",
    "int_equivalence(8, 4, 2)"
   ]
  },
  {
   "cell_type": "markdown",
   "id": "83551f62",
   "metadata": {},
   "source": [
    "In Python things work a little differently, the modulo operator in Python `%` takes the remainder from the standard division algorithm:\n",
    "\n",
    "$$b = aq + r$$\n",
    "\n",
    "where a is the number being divided, q is the quotient and r is the remainder.\n",
    "\n",
    "We can actually show that the two formulations are equivalent:\n",
    "\n",
    "Result:\n",
    "\n",
    "$$a = b \\text{ }(mod\\text{ } n) \\iff a \\text{ }(mod\\text{ } n) = b \\text{ }(mod\\text{ } n)$$\n",
    "\n",
    "Proof:\n",
    "\n",
    "($\\rightarrow$)\n",
    "\n",
    "First assume,\n",
    "\n",
    "$$a = b \\text{ }(mod\\text{ } n)$$ \n",
    "\n",
    "Since $n | (a - b)$, $\\exists k \\in \\mathbb{Z}$ such that $a - b = nk$.\n",
    "\n",
    "Let a mod n = r.\n",
    "\n",
    "Then, by the division algorithm, $\\exists q \\in \\mathbb{Z}$ such that a = nq + r.\n",
    "\n",
    "Using $a = nq + r$ to replace a in $a - b = nk$, we get:\n",
    "\n",
    "$$nq + r - b = nk \\iff nq - nk + r = b \\iff n(q -k) +r = b$$\n",
    "\n",
    "This shows that r is the remainder when n| b  so,\n",
    "\n",
    "$$b\\text{ } (mod\\text{ } n) = r$$ and,\n",
    "\n",
    "$$a\\text{ } (mod\\text{ } n) = r$$\n",
    "\n",
    "($\\leftarrow$)\n",
    "\n",
    "Let \n",
    "\n",
    "$$r = a\\text{ } (mod\\text{ } n) = b\\text{ } (mod\\text{ } n)$$\n",
    "\n",
    "Then \n",
    "\n",
    "$$a = nq_{1} + r$$\n",
    "$$b = nq_{2} + r$$\n",
    "\n",
    "then,\n",
    "\n",
    "$$a - b = nq_{1} + r - (nq_{2} + r) \\iff n(q_{1} - q_{2})$$\n",
    "\n",
    "Thus,\n",
    "\n",
    "$m | (a - b)$ so $a = b\\text{ } (mod\\text{ } n)$.\n",
    "\n",
    "Q.E.D.\n"
   ]
  },
  {
   "cell_type": "markdown",
   "id": "b727ac32",
   "metadata": {},
   "source": [
    "We are now ready for our first example equivalence class, even numbers.\n",
    "\n",
    "Example:\n",
    "\n",
    "For $\\mathbb{Z}$ $[2]$ is an equivalence class under integer division.\n",
    "\n",
    "Proof:\n",
    "\n",
    "$\\forall$ a, b $\\in \\mathbb{Z}$ such that a, b even, they belong to the same equivalence class.\n",
    "\n",
    "We begin by noting that:\n",
    "\n",
    "a = 2k such that k $\\in \\mathbb{Z}$.\n",
    "\n",
    "b = 2j such that j $\\in \\mathbb{Z}$.\n",
    "\n",
    "Therefore, \n",
    "\n",
    "$$ m = k - j $$.\n",
    "\n",
    "$$ 2m = 2(k - j) $$\n",
    "\n",
    "$$ 2 | 2(k - j) $$\n",
    "\n",
    "$$ 2| (a - b) $$\n",
    "\n",
    "By m an integer, 2 | (a - b).\n",
    "\n",
    "Thus a = b (mod 2), and further more, a (mod 2) = b (mod 2).\n",
    "\n",
    "Thus all even numbers are in the same equivalence class and $x \\text{ }(mod\\text{ } 2)$ is the equivalence relation.\n",
    "\n",
    "We'll now prove $x \\text{ }(mod\\text{ } 2)$ is an equivalence relation:\n",
    "\n",
    "Reflexive:\n",
    "\n",
    "$$x R x \\rightarrow x (mod 2) = x (mod 2) \\iff x = x\\text{ } (mod\\text{ } 2 \\iff 2 | (x - x) \\iff 2 | 0$$\n",
    "\n",
    "$$ 2 | 0 \\iff 0 = 2*0$$\n",
    "\n",
    "The final statement should be obvious, this R is reflexive.\n",
    "\n",
    "Symmetric:\n",
    "\n",
    "if x R y, then y R x.\n",
    "\n",
    "Statement to Prove:\n",
    "\n",
    "$$x = y \\text{ }(mod\\text{ } 2) \\rightarrow y = x\\text{ } (mod\\text{ } 2)$$\n",
    "\n",
    "$$x = y\\text{ } (mod\\text{ }2) \\iff 2 | (x - y) \\iff x = 2m + y$$\n",
    "\n",
    "Now we have some cases:\n",
    "\n",
    "$x = y$:\n",
    "\n",
    "If x = y, then we are actually back in case one and therefore we are done.\n",
    "\n",
    "$x \\ne y$:\n",
    "\n",
    "this means that if m > 0 for x = 2m + y, then y = 2(-m) + x.  However this is not a problem since we are dealing with _equivalence_, not equality.  Specifically,\n",
    "\n",
    "$$a\\text{ } (mod\\text{ } n) = -a\\text{ } (mod\\text{ } n) $$.\n",
    "\n",
    "Another way to see this is, if n| a, then n | -a.\n",
    "\n",
    "Lemma:\n",
    "\n",
    "If n | a, then n | -a.\n",
    "\n",
    "$$n | a \\rightarrow a = nq \\rightarrow -a = n(-q) \\rightarrow n|-a$$.\n",
    "\n",
    "Getting back to our proof we have:\n",
    "\n",
    "$$y = 2(-m) + x \\iff y - x = 2(-m) \\iff 2 | (y - x) \\iff y = x\\text{ } (mod\\text{ } 2)$$\n",
    "\n",
    "Q.E.D.\n",
    "\n",
    "Finally, we need only prove the transitive property:\n",
    "\n",
    "If x R y, and y R z then x R z.\n",
    "\n",
    "Given that:\n",
    "\n",
    "$$ x R y \\rightarrow x = y\\text{ } (mod\\text{ } 2)$$\n",
    "$$ y R z \\rightarrow y = z\\text{ } (mod\\text{ } 2)$$\n",
    "\n",
    "$$\\rightarrow$$\n",
    "\n",
    "$$ 2 | (x - y), 2 | (y - z) $$\n",
    "\n",
    "$$\\rightarrow$$\n",
    "\n",
    "$$x - y = 2q$$\n",
    "\n",
    "$$y - z = 2p \\rightarrow y = 2p - z$$\n",
    "\n",
    "Now we substitute in equation 2 into equation 1:\n",
    "\n",
    "$$ x - (2p -z) = 2q$$\n",
    "\n",
    "$$\\rightarrow$$\n",
    "\n",
    "$$ x + z = 2(q + p)$$\n",
    "\n",
    "$$\\rightarrow$$\n",
    "\n",
    "$$ 2 | (x + z) $$\n",
    "\n",
    "$$ x = z \\text{ }(mod\\text{ } 2)$$\n",
    "\n",
    "Q.E.D.\n",
    "\n",
    "We leave it to the reader to prove the following generalization:\n",
    "\n",
    "The following is an equivalence relation:\n",
    "\n",
    "$$y = x\\text{ } (mod\\text{ } p)$$\n",
    "\n",
    "Where x, y $\\in \\mathbb{Z}$ and p is a prime.\n",
    "\n",
    "Note, the proofs are essentially exactly the same as the above."
   ]
  },
  {
   "cell_type": "markdown",
   "id": "281711ac",
   "metadata": {},
   "source": [
    "\n",
    "\n",
    "## Proofs in the Rationals\n",
    "\n",
    "* multiplication\n",
    "* division\n",
    "\n",
    "## Proofs in the Irrationals\n",
    "\n",
    "* irrationality\n",
    "\n",
    "## Proofs in the Reals\n",
    "\n",
    "* exponentials\n",
    "* logs\n",
    "\n",
    "## Sequence Proofs\n",
    "\n",
    "* 1 + 2 + 3 + .. + N = N(N -1)/2, etc.\n",
    "\n",
    "## Counting Proofs\n",
    "\n",
    "Combinations, permutations\n",
    "\n",
    "## Proof by induction\n",
    "\n",
    "* well ordering principal"
   ]
  },
  {
   "cell_type": "code",
   "execution_count": null,
   "id": "40b9a7aa",
   "metadata": {},
   "outputs": [],
   "source": []
  }
 ],
 "metadata": {
  "kernelspec": {
   "display_name": "Python 3",
   "language": "python",
   "name": "python3"
  },
  "language_info": {
   "codemirror_mode": {
    "name": "ipython",
    "version": 3
   },
   "file_extension": ".py",
   "mimetype": "text/x-python",
   "name": "python",
   "nbconvert_exporter": "python",
   "pygments_lexer": "ipython3",
   "version": "3.9.5"
  }
 },
 "nbformat": 4,
 "nbformat_minor": 5
}
