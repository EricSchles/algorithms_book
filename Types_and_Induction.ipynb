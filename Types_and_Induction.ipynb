{
 "cells": [
  {
   "cell_type": "markdown",
   "id": "df558071",
   "metadata": {},
   "source": [
    "# Types\n",
    "\n",
    "## Proofs in the Integers\n",
    "\n",
    "## Proofs in the Rationals\n",
    "\n",
    "* multiplication\n",
    "* division\n",
    "\n",
    "## Proofs in the Irrationals\n",
    "\n",
    "* irrationality\n",
    "\n",
    "## Proofs in the Reals\n",
    "\n",
    "* exponentials\n",
    "* logs\n",
    "\n",
    "## Sequence Proofs\n",
    "\n",
    "* 1 + 2 + 3 + .. + N = N(N -1)/2, etc.\n",
    "\n",
    "## Counting Proofs\n",
    "\n",
    "Combinations, permutations\n",
    "\n",
    "## Proof by induction\n",
    "\n",
    "* well ordering principal\n"
   ]
  },
  {
   "cell_type": "code",
   "execution_count": null,
   "id": "ada477ca",
   "metadata": {},
   "outputs": [],
   "source": []
  }
 ],
 "metadata": {
  "kernelspec": {
   "display_name": "Python 3",
   "language": "python",
   "name": "python3"
  },
  "language_info": {
   "codemirror_mode": {
    "name": "ipython",
    "version": 3
   },
   "file_extension": ".py",
   "mimetype": "text/x-python",
   "name": "python",
   "nbconvert_exporter": "python",
   "pygments_lexer": "ipython3",
   "version": "3.9.5"
  }
 },
 "nbformat": 4,
 "nbformat_minor": 5
}
